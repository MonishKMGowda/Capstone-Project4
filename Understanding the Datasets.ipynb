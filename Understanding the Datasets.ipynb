{
 "cells": [
  {
   "cell_type": "markdown",
   "id": "426dc9e5",
   "metadata": {},
   "source": [
    "# CRIME SCENE REPORT (TABLE 1)"
   ]
  },
  {
   "cell_type": "code",
   "execution_count": 3,
   "id": "d7ace198",
   "metadata": {
    "ExecuteTime": {
     "end_time": "2023-11-06T06:49:18.842769Z",
     "start_time": "2023-11-06T06:49:17.757407Z"
    }
   },
   "outputs": [],
   "source": [
    "import pandas as pd\n",
    "import numpy as np\n",
    "df=pd.read_csv(\"crime_scene_report.csv\")"
   ]
  },
  {
   "cell_type": "code",
   "execution_count": 10,
   "id": "9a7c68d8",
   "metadata": {
    "ExecuteTime": {
     "end_time": "2023-11-04T09:46:38.909441Z",
     "start_time": "2023-11-04T09:46:38.890949Z"
    }
   },
   "outputs": [
    {
     "data": {
      "text/html": [
       "<div>\n",
       "<style scoped>\n",
       "    .dataframe tbody tr th:only-of-type {\n",
       "        vertical-align: middle;\n",
       "    }\n",
       "\n",
       "    .dataframe tbody tr th {\n",
       "        vertical-align: top;\n",
       "    }\n",
       "\n",
       "    .dataframe thead th {\n",
       "        text-align: right;\n",
       "    }\n",
       "</style>\n",
       "<table border=\"1\" class=\"dataframe\">\n",
       "  <thead>\n",
       "    <tr style=\"text-align: right;\">\n",
       "      <th></th>\n",
       "      <th>date</th>\n",
       "      <th>type</th>\n",
       "      <th>description</th>\n",
       "      <th>city</th>\n",
       "    </tr>\n",
       "  </thead>\n",
       "  <tbody>\n",
       "    <tr>\n",
       "      <th>0</th>\n",
       "      <td>20180115</td>\n",
       "      <td>robbery</td>\n",
       "      <td>A Man Dressed as Spider-Man Is on a Robbery Spree</td>\n",
       "      <td>NYC</td>\n",
       "    </tr>\n",
       "    <tr>\n",
       "      <th>1</th>\n",
       "      <td>20180115</td>\n",
       "      <td>murder</td>\n",
       "      <td>Life? Dont talk to me about life.</td>\n",
       "      <td>Albany</td>\n",
       "    </tr>\n",
       "    <tr>\n",
       "      <th>2</th>\n",
       "      <td>20180115</td>\n",
       "      <td>murder</td>\n",
       "      <td>Mama, I killed a man, put a gun against his he...</td>\n",
       "      <td>Reno</td>\n",
       "    </tr>\n",
       "    <tr>\n",
       "      <th>3</th>\n",
       "      <td>20180215</td>\n",
       "      <td>murder</td>\n",
       "      <td>REDACTED REDACTED REDACTED</td>\n",
       "      <td>SQL City</td>\n",
       "    </tr>\n",
       "    <tr>\n",
       "      <th>4</th>\n",
       "      <td>20180215</td>\n",
       "      <td>murder</td>\n",
       "      <td>Someone killed the guard! He took an arrow to ...</td>\n",
       "      <td>SQL City</td>\n",
       "    </tr>\n",
       "    <tr>\n",
       "      <th>...</th>\n",
       "      <td>...</td>\n",
       "      <td>...</td>\n",
       "      <td>...</td>\n",
       "      <td>...</td>\n",
       "    </tr>\n",
       "    <tr>\n",
       "      <th>1223</th>\n",
       "      <td>20180430</td>\n",
       "      <td>bribery</td>\n",
       "      <td>\\n</td>\n",
       "      <td>Garden Grove</td>\n",
       "    </tr>\n",
       "    <tr>\n",
       "      <th>1224</th>\n",
       "      <td>20180430</td>\n",
       "      <td>fraud</td>\n",
       "      <td>‘Why not?’ said the March Hare.\\n</td>\n",
       "      <td>Houma</td>\n",
       "    </tr>\n",
       "    <tr>\n",
       "      <th>1225</th>\n",
       "      <td>20180430</td>\n",
       "      <td>assault</td>\n",
       "      <td>\\n</td>\n",
       "      <td>Fontana</td>\n",
       "    </tr>\n",
       "    <tr>\n",
       "      <th>1226</th>\n",
       "      <td>20180501</td>\n",
       "      <td>assault</td>\n",
       "      <td>be NO mistake about it: it was neither more no...</td>\n",
       "      <td>Trenton</td>\n",
       "    </tr>\n",
       "    <tr>\n",
       "      <th>1227</th>\n",
       "      <td>20180115</td>\n",
       "      <td>murder</td>\n",
       "      <td>Security footage shows that there were 2 witne...</td>\n",
       "      <td>SQL City</td>\n",
       "    </tr>\n",
       "  </tbody>\n",
       "</table>\n",
       "<p>1228 rows × 4 columns</p>\n",
       "</div>"
      ],
      "text/plain": [
       "          date     type                                        description  \\\n",
       "0     20180115  robbery  A Man Dressed as Spider-Man Is on a Robbery Spree   \n",
       "1     20180115   murder                  Life? Dont talk to me about life.   \n",
       "2     20180115   murder  Mama, I killed a man, put a gun against his he...   \n",
       "3     20180215   murder                         REDACTED REDACTED REDACTED   \n",
       "4     20180215   murder  Someone killed the guard! He took an arrow to ...   \n",
       "...        ...      ...                                                ...   \n",
       "1223  20180430  bribery                                                 \\n   \n",
       "1224  20180430    fraud                  ‘Why not?’ said the March Hare.\\n   \n",
       "1225  20180430  assault                                                 \\n   \n",
       "1226  20180501  assault  be NO mistake about it: it was neither more no...   \n",
       "1227  20180115   murder  Security footage shows that there were 2 witne...   \n",
       "\n",
       "              city  \n",
       "0              NYC  \n",
       "1           Albany  \n",
       "2             Reno  \n",
       "3         SQL City  \n",
       "4         SQL City  \n",
       "...            ...  \n",
       "1223  Garden Grove  \n",
       "1224         Houma  \n",
       "1225       Fontana  \n",
       "1226       Trenton  \n",
       "1227      SQL City  \n",
       "\n",
       "[1228 rows x 4 columns]"
      ]
     },
     "execution_count": 10,
     "metadata": {},
     "output_type": "execute_result"
    }
   ],
   "source": [
    "df"
   ]
  },
  {
   "cell_type": "code",
   "execution_count": 11,
   "id": "e0730d8b",
   "metadata": {
    "ExecuteTime": {
     "end_time": "2023-11-04T09:46:46.789898Z",
     "start_time": "2023-11-04T09:46:46.781431Z"
    }
   },
   "outputs": [
    {
     "data": {
      "text/plain": [
       "(4912, (1228, 4))"
      ]
     },
     "execution_count": 11,
     "metadata": {},
     "output_type": "execute_result"
    }
   ],
   "source": [
    "df.size,df.shape"
   ]
  },
  {
   "cell_type": "code",
   "execution_count": 12,
   "id": "7e836bb3",
   "metadata": {
    "ExecuteTime": {
     "end_time": "2023-11-04T09:46:51.552665Z",
     "start_time": "2023-11-04T09:46:51.544789Z"
    }
   },
   "outputs": [
    {
     "data": {
      "text/plain": [
       "date            int64\n",
       "type           object\n",
       "description    object\n",
       "city           object\n",
       "dtype: object"
      ]
     },
     "execution_count": 12,
     "metadata": {},
     "output_type": "execute_result"
    }
   ],
   "source": [
    "df.dtypes\n",
    "# so changes should be made to the date column \n",
    "# other columns should be of string type"
   ]
  },
  {
   "cell_type": "code",
   "execution_count": 40,
   "id": "34d01010",
   "metadata": {
    "ExecuteTime": {
     "end_time": "2023-11-04T09:57:39.234930Z",
     "start_time": "2023-11-04T09:57:39.227486Z"
    }
   },
   "outputs": [
    {
     "data": {
      "text/plain": [
       "486"
      ]
     },
     "execution_count": 40,
     "metadata": {},
     "output_type": "execute_result"
    }
   ],
   "source": [
    "df.date.nunique()\n",
    "# so the data is given for the 486 days"
   ]
  },
  {
   "cell_type": "code",
   "execution_count": 13,
   "id": "67bd8f07",
   "metadata": {
    "ExecuteTime": {
     "end_time": "2023-11-04T09:46:56.073656Z",
     "start_time": "2023-11-04T09:46:56.061576Z"
    }
   },
   "outputs": [
    {
     "data": {
      "text/plain": [
       "date           0\n",
       "type           0\n",
       "description    0\n",
       "city           0\n",
       "dtype: int64"
      ]
     },
     "execution_count": 13,
     "metadata": {},
     "output_type": "execute_result"
    }
   ],
   "source": [
    "df.isna().sum()\n",
    "# no null values"
   ]
  },
  {
   "cell_type": "code",
   "execution_count": 14,
   "id": "ae195e21",
   "metadata": {
    "ExecuteTime": {
     "end_time": "2023-11-04T09:46:59.961549Z",
     "start_time": "2023-11-04T09:46:59.952502Z"
    }
   },
   "outputs": [
    {
     "data": {
      "text/plain": [
       "0       A Man Dressed as Spider-Man Is on a Robbery Spree\n",
       "1                       Life? Dont talk to me about life.\n",
       "2       Mama, I killed a man, put a gun against his he...\n",
       "3                              REDACTED REDACTED REDACTED\n",
       "4       Someone killed the guard! He took an arrow to ...\n",
       "                              ...                        \n",
       "1223                                                   \\n\n",
       "1224                    ‘Why not?’ said the March Hare.\\n\n",
       "1225                                                   \\n\n",
       "1226    be NO mistake about it: it was neither more no...\n",
       "1227    Security footage shows that there were 2 witne...\n",
       "Name: description, Length: 1228, dtype: object"
      ]
     },
     "execution_count": 14,
     "metadata": {},
     "output_type": "execute_result"
    }
   ],
   "source": [
    "df['description']\n",
    "# some of the values in this column have incomplete values , like (3-4 tab spaces ,just quotes)"
   ]
  },
  {
   "cell_type": "code",
   "execution_count": 21,
   "id": "c0a450d8",
   "metadata": {
    "ExecuteTime": {
     "end_time": "2023-11-04T09:48:53.733412Z",
     "start_time": "2023-11-04T09:48:53.666758Z"
    },
    "scrolled": true
   },
   "outputs": [
    {
     "data": {
      "text/html": [
       "<div>\n",
       "<style scoped>\n",
       "    .dataframe tbody tr th:only-of-type {\n",
       "        vertical-align: middle;\n",
       "    }\n",
       "\n",
       "    .dataframe tbody tr th {\n",
       "        vertical-align: top;\n",
       "    }\n",
       "\n",
       "    .dataframe thead th {\n",
       "        text-align: right;\n",
       "    }\n",
       "</style>\n",
       "<table border=\"1\" class=\"dataframe\">\n",
       "  <thead>\n",
       "    <tr style=\"text-align: right;\">\n",
       "      <th></th>\n",
       "      <th>date</th>\n",
       "      <th>type</th>\n",
       "      <th>description</th>\n",
       "      <th>city</th>\n",
       "    </tr>\n",
       "  </thead>\n",
       "  <tbody>\n",
       "    <tr>\n",
       "      <th>30</th>\n",
       "      <td>20170107</td>\n",
       "      <td>smuggling</td>\n",
       "      <td>\\n</td>\n",
       "      <td>Savannah</td>\n",
       "    </tr>\n",
       "    <tr>\n",
       "      <th>43</th>\n",
       "      <td>20170111</td>\n",
       "      <td>murder</td>\n",
       "      <td>\\n</td>\n",
       "      <td>Springdale</td>\n",
       "    </tr>\n",
       "    <tr>\n",
       "      <th>45</th>\n",
       "      <td>20170112</td>\n",
       "      <td>smuggling</td>\n",
       "      <td>\\n</td>\n",
       "      <td>Melbourne</td>\n",
       "    </tr>\n",
       "    <tr>\n",
       "      <th>48</th>\n",
       "      <td>20170113</td>\n",
       "      <td>assault</td>\n",
       "      <td>\\n</td>\n",
       "      <td>Reading</td>\n",
       "    </tr>\n",
       "    <tr>\n",
       "      <th>50</th>\n",
       "      <td>20170114</td>\n",
       "      <td>blackmail</td>\n",
       "      <td>\\n</td>\n",
       "      <td>Orange</td>\n",
       "    </tr>\n",
       "    <tr>\n",
       "      <th>...</th>\n",
       "      <td>...</td>\n",
       "      <td>...</td>\n",
       "      <td>...</td>\n",
       "      <td>...</td>\n",
       "    </tr>\n",
       "    <tr>\n",
       "      <th>1201</th>\n",
       "      <td>20180424</td>\n",
       "      <td>arson</td>\n",
       "      <td>\\n</td>\n",
       "      <td>New York</td>\n",
       "    </tr>\n",
       "    <tr>\n",
       "      <th>1204</th>\n",
       "      <td>20180425</td>\n",
       "      <td>blackmail</td>\n",
       "      <td>\\n</td>\n",
       "      <td>Chula Vista</td>\n",
       "    </tr>\n",
       "    <tr>\n",
       "      <th>1213</th>\n",
       "      <td>20180427</td>\n",
       "      <td>arson</td>\n",
       "      <td>\\n</td>\n",
       "      <td>Leominster</td>\n",
       "    </tr>\n",
       "    <tr>\n",
       "      <th>1223</th>\n",
       "      <td>20180430</td>\n",
       "      <td>bribery</td>\n",
       "      <td>\\n</td>\n",
       "      <td>Garden Grove</td>\n",
       "    </tr>\n",
       "    <tr>\n",
       "      <th>1225</th>\n",
       "      <td>20180430</td>\n",
       "      <td>assault</td>\n",
       "      <td>\\n</td>\n",
       "      <td>Fontana</td>\n",
       "    </tr>\n",
       "  </tbody>\n",
       "</table>\n",
       "<p>289 rows × 4 columns</p>\n",
       "</div>"
      ],
      "text/plain": [
       "          date       type description          city\n",
       "30    20170107  smuggling          \\n      Savannah\n",
       "43    20170111     murder          \\n    Springdale\n",
       "45    20170112  smuggling          \\n     Melbourne\n",
       "48    20170113    assault          \\n       Reading\n",
       "50    20170114  blackmail          \\n        Orange\n",
       "...        ...        ...         ...           ...\n",
       "1201  20180424      arson          \\n      New York\n",
       "1204  20180425  blackmail          \\n   Chula Vista\n",
       "1213  20180427      arson          \\n    Leominster\n",
       "1223  20180430    bribery          \\n  Garden Grove\n",
       "1225  20180430    assault          \\n       Fontana\n",
       "\n",
       "[289 rows x 4 columns]"
      ]
     },
     "execution_count": 21,
     "metadata": {},
     "output_type": "execute_result"
    }
   ],
   "source": [
    "df[df['description'] =='\\n']\n",
    "# see this kind of data should be replaced by \"description not given\""
   ]
  },
  {
   "cell_type": "code",
   "execution_count": 8,
   "id": "8e96bdba",
   "metadata": {
    "ExecuteTime": {
     "end_time": "2023-11-04T11:26:31.063865Z",
     "start_time": "2023-11-04T11:26:31.051677Z"
    }
   },
   "outputs": [
    {
     "data": {
      "text/html": [
       "<div>\n",
       "<style scoped>\n",
       "    .dataframe tbody tr th:only-of-type {\n",
       "        vertical-align: middle;\n",
       "    }\n",
       "\n",
       "    .dataframe tbody tr th {\n",
       "        vertical-align: top;\n",
       "    }\n",
       "\n",
       "    .dataframe thead th {\n",
       "        text-align: right;\n",
       "    }\n",
       "</style>\n",
       "<table border=\"1\" class=\"dataframe\">\n",
       "  <thead>\n",
       "    <tr style=\"text-align: right;\">\n",
       "      <th></th>\n",
       "      <th>date</th>\n",
       "      <th>type</th>\n",
       "      <th>description</th>\n",
       "      <th>city</th>\n",
       "    </tr>\n",
       "  </thead>\n",
       "  <tbody>\n",
       "    <tr>\n",
       "      <th>508</th>\n",
       "      <td>20170708</td>\n",
       "      <td>murder</td>\n",
       "      <td>*    *    *    *    *    *    *\\n</td>\n",
       "      <td>St. Louis</td>\n",
       "    </tr>\n",
       "  </tbody>\n",
       "</table>\n",
       "</div>"
      ],
      "text/plain": [
       "         date    type                          description       city\n",
       "508  20170708  murder    *    *    *    *    *    *    *\\n  St. Louis"
      ]
     },
     "execution_count": 8,
     "metadata": {},
     "output_type": "execute_result"
    }
   ],
   "source": [
    "df[df['description'] ==\"  *    *    *    *    *    *    *\\n\"]\n",
    "# see this kind of data should be replaced by \"description not given\""
   ]
  },
  {
   "cell_type": "code",
   "execution_count": 9,
   "id": "f92b3194",
   "metadata": {
    "ExecuteTime": {
     "end_time": "2023-11-04T11:27:02.779697Z",
     "start_time": "2023-11-04T11:27:02.764414Z"
    }
   },
   "outputs": [
    {
     "data": {
      "text/html": [
       "<div>\n",
       "<style scoped>\n",
       "    .dataframe tbody tr th:only-of-type {\n",
       "        vertical-align: middle;\n",
       "    }\n",
       "\n",
       "    .dataframe tbody tr th {\n",
       "        vertical-align: top;\n",
       "    }\n",
       "\n",
       "    .dataframe thead th {\n",
       "        text-align: right;\n",
       "    }\n",
       "</style>\n",
       "<table border=\"1\" class=\"dataframe\">\n",
       "  <thead>\n",
       "    <tr style=\"text-align: right;\">\n",
       "      <th></th>\n",
       "      <th>date</th>\n",
       "      <th>type</th>\n",
       "      <th>description</th>\n",
       "      <th>city</th>\n",
       "    </tr>\n",
       "  </thead>\n",
       "  <tbody>\n",
       "    <tr>\n",
       "      <th>415</th>\n",
       "      <td>20170606</td>\n",
       "      <td>assault</td>\n",
       "      <td>*    *    *    *    *    *\\n</td>\n",
       "      <td>Elk Grove</td>\n",
       "    </tr>\n",
       "    <tr>\n",
       "      <th>1057</th>\n",
       "      <td>20180218</td>\n",
       "      <td>blackmail</td>\n",
       "      <td>*    *    *    *    *    *\\n</td>\n",
       "      <td>Temecula</td>\n",
       "    </tr>\n",
       "  </tbody>\n",
       "</table>\n",
       "</div>"
      ],
      "text/plain": [
       "          date       type                       description       city\n",
       "415   20170606    assault      *    *    *    *    *    *\\n  Elk Grove\n",
       "1057  20180218  blackmail      *    *    *    *    *    *\\n   Temecula"
      ]
     },
     "execution_count": 9,
     "metadata": {},
     "output_type": "execute_result"
    }
   ],
   "source": [
    "df[df['description'] ==\"    *    *    *    *    *    *\\n\"]\n",
    "# see this kind of data should be replaced by \"description not given\""
   ]
  },
  {
   "cell_type": "code",
   "execution_count": 7,
   "id": "e50b338e",
   "metadata": {
    "ExecuteTime": {
     "end_time": "2023-11-04T13:48:24.915570Z",
     "start_time": "2023-11-04T13:48:24.907529Z"
    }
   },
   "outputs": [
    {
     "data": {
      "text/plain": [
       "259"
      ]
     },
     "execution_count": 7,
     "metadata": {},
     "output_type": "execute_result"
    }
   ],
   "source": [
    "df['description'].str.len().max()\n",
    "# so while creating a table , give varchar(300) for description column\n",
    "# default size of varchar type is 256"
   ]
  },
  {
   "cell_type": "markdown",
   "id": "1cd807ee",
   "metadata": {},
   "source": [
    "# Drivers License (Table 2)"
   ]
  },
  {
   "cell_type": "code",
   "execution_count": 4,
   "id": "857644dd",
   "metadata": {
    "ExecuteTime": {
     "end_time": "2023-11-06T06:49:22.226336Z",
     "start_time": "2023-11-06T06:49:21.977536Z"
    }
   },
   "outputs": [],
   "source": [
    "df=pd.read_csv(\"drivers_license.csv\")"
   ]
  },
  {
   "cell_type": "code",
   "execution_count": 23,
   "id": "c5fc339b",
   "metadata": {
    "ExecuteTime": {
     "end_time": "2023-11-04T09:51:11.782889Z",
     "start_time": "2023-11-04T09:51:11.763016Z"
    }
   },
   "outputs": [
    {
     "data": {
      "text/html": [
       "<div>\n",
       "<style scoped>\n",
       "    .dataframe tbody tr th:only-of-type {\n",
       "        vertical-align: middle;\n",
       "    }\n",
       "\n",
       "    .dataframe tbody tr th {\n",
       "        vertical-align: top;\n",
       "    }\n",
       "\n",
       "    .dataframe thead th {\n",
       "        text-align: right;\n",
       "    }\n",
       "</style>\n",
       "<table border=\"1\" class=\"dataframe\">\n",
       "  <thead>\n",
       "    <tr style=\"text-align: right;\">\n",
       "      <th></th>\n",
       "      <th>id</th>\n",
       "      <th>age</th>\n",
       "      <th>height</th>\n",
       "      <th>eye_color</th>\n",
       "      <th>hair_color</th>\n",
       "      <th>gender</th>\n",
       "      <th>plate_number</th>\n",
       "      <th>car_make</th>\n",
       "      <th>car_model</th>\n",
       "    </tr>\n",
       "  </thead>\n",
       "  <tbody>\n",
       "    <tr>\n",
       "      <th>0</th>\n",
       "      <td>100280</td>\n",
       "      <td>72</td>\n",
       "      <td>57</td>\n",
       "      <td>brown</td>\n",
       "      <td>red</td>\n",
       "      <td>male</td>\n",
       "      <td>P24L4U</td>\n",
       "      <td>Acura</td>\n",
       "      <td>MDX</td>\n",
       "    </tr>\n",
       "    <tr>\n",
       "      <th>1</th>\n",
       "      <td>100460</td>\n",
       "      <td>63</td>\n",
       "      <td>72</td>\n",
       "      <td>brown</td>\n",
       "      <td>brown</td>\n",
       "      <td>female</td>\n",
       "      <td>XF02T6</td>\n",
       "      <td>Cadillac</td>\n",
       "      <td>SRX</td>\n",
       "    </tr>\n",
       "    <tr>\n",
       "      <th>2</th>\n",
       "      <td>101029</td>\n",
       "      <td>62</td>\n",
       "      <td>74</td>\n",
       "      <td>green</td>\n",
       "      <td>green</td>\n",
       "      <td>female</td>\n",
       "      <td>VKY5KR</td>\n",
       "      <td>Scion</td>\n",
       "      <td>xB</td>\n",
       "    </tr>\n",
       "    <tr>\n",
       "      <th>3</th>\n",
       "      <td>101198</td>\n",
       "      <td>43</td>\n",
       "      <td>54</td>\n",
       "      <td>amber</td>\n",
       "      <td>brown</td>\n",
       "      <td>female</td>\n",
       "      <td>Y5NZ08</td>\n",
       "      <td>Nissan</td>\n",
       "      <td>Rogue</td>\n",
       "    </tr>\n",
       "    <tr>\n",
       "      <th>4</th>\n",
       "      <td>101255</td>\n",
       "      <td>18</td>\n",
       "      <td>79</td>\n",
       "      <td>blue</td>\n",
       "      <td>grey</td>\n",
       "      <td>female</td>\n",
       "      <td>5162Z1</td>\n",
       "      <td>Lexus</td>\n",
       "      <td>GS</td>\n",
       "    </tr>\n",
       "    <tr>\n",
       "      <th>...</th>\n",
       "      <td>...</td>\n",
       "      <td>...</td>\n",
       "      <td>...</td>\n",
       "      <td>...</td>\n",
       "      <td>...</td>\n",
       "      <td>...</td>\n",
       "      <td>...</td>\n",
       "      <td>...</td>\n",
       "      <td>...</td>\n",
       "    </tr>\n",
       "    <tr>\n",
       "      <th>10002</th>\n",
       "      <td>999923</td>\n",
       "      <td>19</td>\n",
       "      <td>77</td>\n",
       "      <td>amber</td>\n",
       "      <td>black</td>\n",
       "      <td>female</td>\n",
       "      <td>5L0ZI4</td>\n",
       "      <td>GMC</td>\n",
       "      <td>Sierra 3500</td>\n",
       "    </tr>\n",
       "    <tr>\n",
       "      <th>10003</th>\n",
       "      <td>999940</td>\n",
       "      <td>71</td>\n",
       "      <td>61</td>\n",
       "      <td>green</td>\n",
       "      <td>green</td>\n",
       "      <td>male</td>\n",
       "      <td>1B8QN8</td>\n",
       "      <td>Mitsubishi</td>\n",
       "      <td>Eclipse</td>\n",
       "    </tr>\n",
       "    <tr>\n",
       "      <th>10004</th>\n",
       "      <td>999981</td>\n",
       "      <td>67</td>\n",
       "      <td>69</td>\n",
       "      <td>brown</td>\n",
       "      <td>blue</td>\n",
       "      <td>female</td>\n",
       "      <td>1684K3</td>\n",
       "      <td>Land Rover</td>\n",
       "      <td>LR2</td>\n",
       "    </tr>\n",
       "    <tr>\n",
       "      <th>10005</th>\n",
       "      <td>999986</td>\n",
       "      <td>49</td>\n",
       "      <td>58</td>\n",
       "      <td>green</td>\n",
       "      <td>grey</td>\n",
       "      <td>male</td>\n",
       "      <td>F8F64H</td>\n",
       "      <td>Lexus</td>\n",
       "      <td>LS</td>\n",
       "    </tr>\n",
       "    <tr>\n",
       "      <th>10006</th>\n",
       "      <td>999993</td>\n",
       "      <td>18</td>\n",
       "      <td>63</td>\n",
       "      <td>black</td>\n",
       "      <td>black</td>\n",
       "      <td>female</td>\n",
       "      <td>6UZO2O</td>\n",
       "      <td>Cadillac</td>\n",
       "      <td>DeVille</td>\n",
       "    </tr>\n",
       "  </tbody>\n",
       "</table>\n",
       "<p>10007 rows × 9 columns</p>\n",
       "</div>"
      ],
      "text/plain": [
       "           id  age  height eye_color hair_color  gender plate_number  \\\n",
       "0      100280   72      57     brown        red    male       P24L4U   \n",
       "1      100460   63      72     brown      brown  female       XF02T6   \n",
       "2      101029   62      74     green      green  female       VKY5KR   \n",
       "3      101198   43      54     amber      brown  female       Y5NZ08   \n",
       "4      101255   18      79      blue       grey  female       5162Z1   \n",
       "...       ...  ...     ...       ...        ...     ...          ...   \n",
       "10002  999923   19      77     amber      black  female       5L0ZI4   \n",
       "10003  999940   71      61     green      green    male       1B8QN8   \n",
       "10004  999981   67      69     brown       blue  female       1684K3   \n",
       "10005  999986   49      58     green       grey    male       F8F64H   \n",
       "10006  999993   18      63     black      black  female       6UZO2O   \n",
       "\n",
       "         car_make    car_model  \n",
       "0           Acura          MDX  \n",
       "1        Cadillac          SRX  \n",
       "2           Scion           xB  \n",
       "3          Nissan        Rogue  \n",
       "4           Lexus           GS  \n",
       "...           ...          ...  \n",
       "10002         GMC  Sierra 3500  \n",
       "10003  Mitsubishi      Eclipse  \n",
       "10004  Land Rover          LR2  \n",
       "10005       Lexus           LS  \n",
       "10006    Cadillac      DeVille  \n",
       "\n",
       "[10007 rows x 9 columns]"
      ]
     },
     "execution_count": 23,
     "metadata": {},
     "output_type": "execute_result"
    }
   ],
   "source": [
    "df"
   ]
  },
  {
   "cell_type": "code",
   "execution_count": 24,
   "id": "6f3a6894",
   "metadata": {
    "ExecuteTime": {
     "end_time": "2023-11-04T09:51:24.457794Z",
     "start_time": "2023-11-04T09:51:24.450833Z"
    }
   },
   "outputs": [
    {
     "data": {
      "text/plain": [
       "(90063, (10007, 9))"
      ]
     },
     "execution_count": 24,
     "metadata": {},
     "output_type": "execute_result"
    }
   ],
   "source": [
    "df.size,df.shape"
   ]
  },
  {
   "cell_type": "code",
   "execution_count": 25,
   "id": "f4a51994",
   "metadata": {
    "ExecuteTime": {
     "end_time": "2023-11-04T09:51:28.275142Z",
     "start_time": "2023-11-04T09:51:28.266183Z"
    }
   },
   "outputs": [
    {
     "data": {
      "text/plain": [
       "id               int64\n",
       "age              int64\n",
       "height           int64\n",
       "eye_color       object\n",
       "hair_color      object\n",
       "gender          object\n",
       "plate_number    object\n",
       "car_make        object\n",
       "car_model       object\n",
       "dtype: object"
      ]
     },
     "execution_count": 25,
     "metadata": {},
     "output_type": "execute_result"
    }
   ],
   "source": [
    "df.dtypes\n",
    "# so no changes should be made to the columns schema , they are in correct data type\n",
    "# here the height column values are in inches"
   ]
  },
  {
   "cell_type": "code",
   "execution_count": 26,
   "id": "a48dc850",
   "metadata": {
    "ExecuteTime": {
     "end_time": "2023-11-04T09:52:08.015425Z",
     "start_time": "2023-11-04T09:52:08.002344Z"
    }
   },
   "outputs": [
    {
     "data": {
      "text/plain": [
       "id              0\n",
       "age             0\n",
       "height          0\n",
       "eye_color       0\n",
       "hair_color      0\n",
       "gender          0\n",
       "plate_number    0\n",
       "car_make        0\n",
       "car_model       0\n",
       "dtype: int64"
      ]
     },
     "execution_count": 26,
     "metadata": {},
     "output_type": "execute_result"
    }
   ],
   "source": [
    "df.isna().sum()\n",
    "# no null values"
   ]
  },
  {
   "cell_type": "code",
   "execution_count": 12,
   "id": "81038660",
   "metadata": {
    "ExecuteTime": {
     "end_time": "2023-11-06T07:17:16.218200Z",
     "start_time": "2023-11-06T07:17:16.198630Z"
    }
   },
   "outputs": [
    {
     "data": {
      "text/html": [
       "<div>\n",
       "<style scoped>\n",
       "    .dataframe tbody tr th:only-of-type {\n",
       "        vertical-align: middle;\n",
       "    }\n",
       "\n",
       "    .dataframe tbody tr th {\n",
       "        vertical-align: top;\n",
       "    }\n",
       "\n",
       "    .dataframe thead th {\n",
       "        text-align: right;\n",
       "    }\n",
       "</style>\n",
       "<table border=\"1\" class=\"dataframe\">\n",
       "  <thead>\n",
       "    <tr style=\"text-align: right;\">\n",
       "      <th></th>\n",
       "      <th>id</th>\n",
       "      <th>age</th>\n",
       "      <th>height</th>\n",
       "      <th>eye_color</th>\n",
       "      <th>hair_color</th>\n",
       "      <th>gender</th>\n",
       "      <th>plate_number</th>\n",
       "      <th>car_make</th>\n",
       "      <th>car_model</th>\n",
       "    </tr>\n",
       "  </thead>\n",
       "  <tbody>\n",
       "    <tr>\n",
       "      <th>8992</th>\n",
       "      <td>909986</td>\n",
       "      <td>85</td>\n",
       "      <td>50</td>\n",
       "      <td>amber</td>\n",
       "      <td>blue</td>\n",
       "      <td>female</td>\n",
       "      <td>67U12E</td>\n",
       "      <td>Tesla</td>\n",
       "      <td>Model X</td>\n",
       "    </tr>\n",
       "  </tbody>\n",
       "</table>\n",
       "</div>"
      ],
      "text/plain": [
       "          id  age  height eye_color hair_color  gender plate_number car_make  \\\n",
       "8992  909986   85      50     amber       blue  female       67U12E    Tesla   \n",
       "\n",
       "     car_model  \n",
       "8992   Model X  "
      ]
     },
     "execution_count": 12,
     "metadata": {},
     "output_type": "execute_result"
    }
   ],
   "source": [
    "df[df['car_model'] =='Model X']"
   ]
  },
  {
   "cell_type": "code",
   "execution_count": 14,
   "id": "c36efb56",
   "metadata": {
    "ExecuteTime": {
     "end_time": "2023-11-06T07:21:07.461854Z",
     "start_time": "2023-11-06T07:21:07.311281Z"
    }
   },
   "outputs": [
    {
     "data": {
      "text/html": [
       "<div>\n",
       "<style scoped>\n",
       "    .dataframe tbody tr th:only-of-type {\n",
       "        vertical-align: middle;\n",
       "    }\n",
       "\n",
       "    .dataframe tbody tr th {\n",
       "        vertical-align: top;\n",
       "    }\n",
       "\n",
       "    .dataframe thead th {\n",
       "        text-align: right;\n",
       "    }\n",
       "</style>\n",
       "<table border=\"1\" class=\"dataframe\">\n",
       "  <thead>\n",
       "    <tr style=\"text-align: right;\">\n",
       "      <th></th>\n",
       "      <th>id</th>\n",
       "      <th>age</th>\n",
       "      <th>height</th>\n",
       "      <th>eye_color</th>\n",
       "      <th>hair_color</th>\n",
       "      <th>gender</th>\n",
       "      <th>plate_number</th>\n",
       "      <th>car_make</th>\n",
       "      <th>car_model</th>\n",
       "    </tr>\n",
       "  </thead>\n",
       "  <tbody>\n",
       "    <tr>\n",
       "      <th>17</th>\n",
       "      <td>101909</td>\n",
       "      <td>84</td>\n",
       "      <td>52</td>\n",
       "      <td>amber</td>\n",
       "      <td>brown</td>\n",
       "      <td>male</td>\n",
       "      <td>5Y633C</td>\n",
       "      <td>Ford</td>\n",
       "      <td>E-Series</td>\n",
       "    </tr>\n",
       "    <tr>\n",
       "      <th>21</th>\n",
       "      <td>102355</td>\n",
       "      <td>29</td>\n",
       "      <td>67</td>\n",
       "      <td>blue</td>\n",
       "      <td>blonde</td>\n",
       "      <td>male</td>\n",
       "      <td>7K625Q</td>\n",
       "      <td>Ford</td>\n",
       "      <td>F350</td>\n",
       "    </tr>\n",
       "    <tr>\n",
       "      <th>29</th>\n",
       "      <td>103138</td>\n",
       "      <td>37</td>\n",
       "      <td>65</td>\n",
       "      <td>brown</td>\n",
       "      <td>blonde</td>\n",
       "      <td>male</td>\n",
       "      <td>T6TV0T</td>\n",
       "      <td>Ford</td>\n",
       "      <td>Focus</td>\n",
       "    </tr>\n",
       "    <tr>\n",
       "      <th>33</th>\n",
       "      <td>103260</td>\n",
       "      <td>22</td>\n",
       "      <td>59</td>\n",
       "      <td>brown</td>\n",
       "      <td>blonde</td>\n",
       "      <td>female</td>\n",
       "      <td>G67F83</td>\n",
       "      <td>Ford</td>\n",
       "      <td>E250</td>\n",
       "    </tr>\n",
       "    <tr>\n",
       "      <th>34</th>\n",
       "      <td>103417</td>\n",
       "      <td>63</td>\n",
       "      <td>54</td>\n",
       "      <td>amber</td>\n",
       "      <td>white</td>\n",
       "      <td>male</td>\n",
       "      <td>12LBWW</td>\n",
       "      <td>Ford</td>\n",
       "      <td>F-Series Super Duty</td>\n",
       "    </tr>\n",
       "    <tr>\n",
       "      <th>...</th>\n",
       "      <td>...</td>\n",
       "      <td>...</td>\n",
       "      <td>...</td>\n",
       "      <td>...</td>\n",
       "      <td>...</td>\n",
       "      <td>...</td>\n",
       "      <td>...</td>\n",
       "      <td>...</td>\n",
       "      <td>...</td>\n",
       "    </tr>\n",
       "    <tr>\n",
       "      <th>9904</th>\n",
       "      <td>990015</td>\n",
       "      <td>41</td>\n",
       "      <td>66</td>\n",
       "      <td>green</td>\n",
       "      <td>red</td>\n",
       "      <td>male</td>\n",
       "      <td>787ZK7</td>\n",
       "      <td>Ford</td>\n",
       "      <td>Mustang</td>\n",
       "    </tr>\n",
       "    <tr>\n",
       "      <th>9912</th>\n",
       "      <td>990447</td>\n",
       "      <td>62</td>\n",
       "      <td>76</td>\n",
       "      <td>blue</td>\n",
       "      <td>white</td>\n",
       "      <td>female</td>\n",
       "      <td>4OC584</td>\n",
       "      <td>Ford</td>\n",
       "      <td>E350</td>\n",
       "    </tr>\n",
       "    <tr>\n",
       "      <th>9921</th>\n",
       "      <td>991082</td>\n",
       "      <td>87</td>\n",
       "      <td>81</td>\n",
       "      <td>brown</td>\n",
       "      <td>red</td>\n",
       "      <td>male</td>\n",
       "      <td>T44541</td>\n",
       "      <td>Ford</td>\n",
       "      <td>Thunderbird</td>\n",
       "    </tr>\n",
       "    <tr>\n",
       "      <th>9967</th>\n",
       "      <td>995922</td>\n",
       "      <td>77</td>\n",
       "      <td>60</td>\n",
       "      <td>amber</td>\n",
       "      <td>blue</td>\n",
       "      <td>female</td>\n",
       "      <td>IS2LA5</td>\n",
       "      <td>Ford</td>\n",
       "      <td>Taurus</td>\n",
       "    </tr>\n",
       "    <tr>\n",
       "      <th>9980</th>\n",
       "      <td>997283</td>\n",
       "      <td>50</td>\n",
       "      <td>82</td>\n",
       "      <td>amber</td>\n",
       "      <td>blue</td>\n",
       "      <td>male</td>\n",
       "      <td>NOTT82</td>\n",
       "      <td>Ford</td>\n",
       "      <td>Explorer</td>\n",
       "    </tr>\n",
       "  </tbody>\n",
       "</table>\n",
       "<p>764 rows × 9 columns</p>\n",
       "</div>"
      ],
      "text/plain": [
       "          id  age  height eye_color hair_color  gender plate_number car_make  \\\n",
       "17    101909   84      52     amber      brown    male       5Y633C     Ford   \n",
       "21    102355   29      67      blue     blonde    male       7K625Q     Ford   \n",
       "29    103138   37      65     brown     blonde    male       T6TV0T     Ford   \n",
       "33    103260   22      59     brown     blonde  female       G67F83     Ford   \n",
       "34    103417   63      54     amber      white    male       12LBWW     Ford   \n",
       "...      ...  ...     ...       ...        ...     ...          ...      ...   \n",
       "9904  990015   41      66     green        red    male       787ZK7     Ford   \n",
       "9912  990447   62      76      blue      white  female       4OC584     Ford   \n",
       "9921  991082   87      81     brown        red    male       T44541     Ford   \n",
       "9967  995922   77      60     amber       blue  female       IS2LA5     Ford   \n",
       "9980  997283   50      82     amber       blue    male       NOTT82     Ford   \n",
       "\n",
       "                car_model  \n",
       "17               E-Series  \n",
       "21                   F350  \n",
       "29                  Focus  \n",
       "33                   E250  \n",
       "34    F-Series Super Duty  \n",
       "...                   ...  \n",
       "9904              Mustang  \n",
       "9912                 E350  \n",
       "9921          Thunderbird  \n",
       "9967               Taurus  \n",
       "9980             Explorer  \n",
       "\n",
       "[764 rows x 9 columns]"
      ]
     },
     "execution_count": 14,
     "metadata": {},
     "output_type": "execute_result"
    }
   ],
   "source": [
    "df[df['car_make'] =='Ford']"
   ]
  },
  {
   "cell_type": "code",
   "execution_count": 10,
   "id": "ae6a3496",
   "metadata": {
    "ExecuteTime": {
     "end_time": "2023-11-06T06:54:03.907296Z",
     "start_time": "2023-11-06T06:54:03.894203Z"
    }
   },
   "outputs": [
    {
     "data": {
      "text/plain": [
       "array(['MDX', 'SRX', 'xB', 'Rogue', 'GS', 'Sportage', '9-5', 'XK',\n",
       "       'Sierra Denali', 'Sierra 2500', 'S60', 'Intrigue', 'Express 1500',\n",
       "       'Matrix', 'Azera', 'Pathfinder', '350Z', 'E-Series', 'Savana 3500',\n",
       "       'S-Series', 'Ram Van 3500', 'F350', 'Grand Vitara', 'LaCrosse',\n",
       "       'Regal', 'Trailblazer', 'Savana 1500', 'Insight', 'Cutlass',\n",
       "       'Focus', 'Ram Van 2500', '9-7X', 'VehiCROSS', 'E250',\n",
       "       'F-Series Super Duty', 'Corolla', 'Freelander', 'S-Class',\n",
       "       'Charger', 'Ram 3500', 'Envoy', 'XC90', 'Discovery', 'TSX',\n",
       "       'SL-Class', 'Range Rover Sport', 'Montero', 'Silhouette',\n",
       "       'Mazdaspeed 3', '760', 'Grand Cherokee', 'Suburban 1500', 'V70',\n",
       "       'C-Class', 'Liberty', 'Armada', 'Navigator', 'Murano', 'Cabriolet',\n",
       "       'Discovery Series II', 'Monte Carlo', 'CX-9', 'M-Class', 'Escape',\n",
       "       'Dakota', 'Pajero', 'Rabbit', 'XL-7', 'Cavalier', 'F150',\n",
       "       'Forester', 'Aura', 'R-Class', 'Thunderbird', 'Cherokee', 'G',\n",
       "       'Silverado 2500', 'Tahoe', 'Z8', 'CC', '5 Series', '300M',\n",
       "       'Excursion', 'Silverado', 'Colorado', 'Yukon XL 2500', '88',\n",
       "       'Ram 1500', 'F-Series', 'Sierra 1500', 'Aurora', 'Classic', 'DBS',\n",
       "       'LR3', 'Compass', 'NSX', 'IS F', 'TL', 'IS', 'E150', '325',\n",
       "       'GranTurismo', 'DTS', 'Murciélago', 'MKZ', 'Ram 2500', 'X6',\n",
       "       'Grand Prix', 'Ram', 'Fusion', 'A4', 'I', 'Tribute', 'A6',\n",
       "       'Passat', 'Silverado 1500', 'C30', 'H3', 'EV1', 'Crown Victoria',\n",
       "       'Frontier', 'GTO', 'Catera', 'Diamante', 'Galant', '3 Series',\n",
       "       'Sephia', 'F250', 'New Beetle', 'Amanti', 'Astro', '745', 'A8',\n",
       "       'Civic', 'Bonneville', 'Express 3500', 'Yukon', 'Camry Hybrid',\n",
       "       'XJ Series', 'Sequoia', 'Q5', 'MKX', 'tC', 'E-Class', 'Sonoma',\n",
       "       'Sebring', 'Sprinter', 'H1', 'Neon', 'Pilot', 'Allroad', 'Fortwo',\n",
       "       '900', 'Ram 2500 Club', 'LFA', 'Nubira', 'Optima', 'LS',\n",
       "       'Savana 2500', 'RX Hybrid', '650', 'CL-Class', 'Caravan', '545',\n",
       "       'Escalade ESV', 'Sprinter 2500', 'Edge', 'Taurus', 'SLR McLaren',\n",
       "       'Axiom', 'Routan', 'LX', 'X-Type', 'Ram Van 1500', 'Vibe',\n",
       "       'F-350 Super Duty', 'Safari', 'Century', 'Vantage', 'Prius',\n",
       "       'Miata MX-5', 'Phaeton', 'A7', 'GX', 'Montana', 'Acadia', 'M5',\n",
       "       'Tribeca', 'Wrangler', 'Town & Country', 'Accord', 'Explorer',\n",
       "       'Flex', '300', 'Continental', 'Sienna', 'Elantra', 'S5', 'Mazda3',\n",
       "       '2500 Club Coupe', 'Yaris', 'Stratus', 'Avalon', '1500', '911',\n",
       "       'QX56', 'Borrego', 'Avenger', '4Runner', '6 Series', 'Equus',\n",
       "       'Continental Flying Spur', 'Cayman', 'Tiburon', 'Rainier', 'S10',\n",
       "       'Venza', 'Mariner', 'Econoline E350', 'Land Cruiser', 'DeVille',\n",
       "       'Forte', 'SLS-Class', 'Sable', 'CX-7', 'Freestar', 'M',\n",
       "       'Cooper Clubman', 'ES', 'MX-5', 'Sentra', 'STS', 'Suburban 2500',\n",
       "       '57', '7 Series', 'Element', 'Commander', 'Silverado 3500',\n",
       "       'Concorde', 'Mirage', 'Genesis', 'Xterra', 'Ridgeline',\n",
       "       'Outlander', 'Cooper', 'HS', 'SLK55 AMG', 'Canyon', 'Crossfire',\n",
       "       'JX', 'Voyager', 'CL', 'RX-8', 'Mystique', 'Vitara',\n",
       "       'Explorer Sport Trac', 'Rodeo', 'Milan', 'Azure', 'QX',\n",
       "       'Mountaineer', 'Rio', 'Rendezvous', '9-3', 'Relay', 'Dakota Club',\n",
       "       'Celica', 'X5', 'Accent', 'Range Rover', '3500', 'Santa Fe',\n",
       "       'Park Avenue', 'Legacy', 'Sunfire', 'F430', 'Boxster', 'Regency',\n",
       "       'S6', 'Esprit', 'Gallardo', 'Veloster', 'E350', 'FF', 'Altima',\n",
       "       'Expedition', 'Prelude', 'CR-V', 'Camry', 'Town Car',\n",
       "       'Quattroporte', 'MR2', 'DB9 Volante', 'C-MAX Hybrid', 'TT',\n",
       "       'Traverse', 'RL', 'Accord Crosstour', 'Carens', 'Arnage',\n",
       "       '599 GTB Fiorano', 'Carrera GT', 'Durango', 'XC70', 'CTS', 'RAV4',\n",
       "       'Avalanche', 'S4', 'IS-F', 'Q7', 'Magnum', 'Yukon XL 1500', 'Volt',\n",
       "       'Lanos', 'R8', 'FJ Cruiser', 'CLS-Class', 'Veracruz', 'SC',\n",
       "       'MP4-12C', 'Mustang', '1 Series', 'Escalade EXT', 'i-Series',\n",
       "       'Spyder', 'Entourage', 'Grand Am', 'LR4', 'XK Series',\n",
       "       'Grand Marquis', 'TundraMax', 'Sonata', 'Quest', 'Express 2500',\n",
       "       '200SX', 'RX', '645', 'Fit', 'RS 4', '626', 'V12 Vantage',\n",
       "       'Villager', 'RSX', 'G35', 'Odyssey', 'Venture', '430 Scuderia',\n",
       "       'Lancer Evolution', 'Ghost', 'GLI', 'Ranger', 'Camaro', 'XL7',\n",
       "       'Metro', '200', 'XJ', 'Continental GT', 'Equinox', 'G-Class',\n",
       "       'Pacifica', 'Millenia', 'Avalanche 1500', 'SLK-Class', '3000GT',\n",
       "       'Blazer', 'Challenger', 'Expedition EL', 'Z3', 'M3', 'Reno', 'RDX',\n",
       "       'F-250 Super Duty', 'Lucerne', 'Civic Si', 'LeSabre',\n",
       "       'Continental Super', 'Roadster', 'H2', 'Cube', 'Cruze', 'Tacoma',\n",
       "       'C70', 'MPV', 'F450', 'Soul', 'Tracker', 'Sedona', 'Mazdaspeed6',\n",
       "       'Monterey', '525', 'Titan', 'IPL G', 'Grand Caravan',\n",
       "       'Range Rover Evoque', 'Lancer', 'Bravada', 'Astra', 'Integra',\n",
       "       'Golf', 'Sonoma Club Coupe', 'XF', 'Elise', 'Z4 M', 'Diablo',\n",
       "       'Phantom', 'V8 Vantage', 'Z4', 'C8 Spyder', 'Aveo', 'FX', 'Alero',\n",
       "       'Verona', 'Tacoma Xtra', 'Forenza', 'Viper', 'Windstar',\n",
       "       'Trans Sport', 'Intrepid', 'Escort', 'XC60', 'Cooper Countryman',\n",
       "       'Savana Cargo Van', 'Passport', 'Rapide', 'C8', 'Firebird',\n",
       "       'CL65 AMG', 'Mazda2', 'CLK-Class', 'Maxima', 'MKT', 'Freestyle',\n",
       "       'Cayenne', 'SX4', 'Outback Sport', 'Montana SV6', 'Spectra5',\n",
       "       'B-Series', 'Mazda6', 'Prius Plug-in', 'Touareg', 'Sorento',\n",
       "       'Envoy XL', 'Th!nk', 'Ram 1500 Club', 'Cobalt SS', 'Impreza',\n",
       "       '9-2X', 'Protege', 'Five Hundred', 'Skylark', 'C8 Laviolette',\n",
       "       'Cirrus', 'LR2', 'Jetta', 'X5 M', 'G55 AMG', '330', 'Enclave',\n",
       "       'GTI', 'Escalade', 'SLS AMG', 'i-280', 'S8', 'Esteem', 'Malibu',\n",
       "       'Tiguan', 'California', 'Tundra', 'Echo', 'CTS-V', 'Versa',\n",
       "       'Prowler', 'xD', 'EX', 'PT Cruiser', 'riolet', 'Mazda5', 'Terraza',\n",
       "       'Savana', 'G5', 'G-Series 3500', '1500 Club Coupe', 'Aviator',\n",
       "       '530', 'Sky', 'XG350', '370Z', 'Solara', 'Cougar', 'S70',\n",
       "       '458 Italia', 'S40', 'Econoline E250', 'HHR', 'GL-Class',\n",
       "       'Model S', 'Nitro', 'Silverado 3500HD', 'X3', 'MKS', '207',\n",
       "       'Endeavor', 'BRZ', 'Impala', 'GranSport', 'Prius Plug-in Hybrid',\n",
       "       'RS 6', 'Gran Sport', 'A3', 'Caliber', 'Outlook', 'G37', 'Cobalt',\n",
       "       'Outback', 'V40', 'Prizm', 'Highlander Hybrid',\n",
       "       'Crossfire Roadster', 'Yukon Denali', 'Avalanche 2500', 'Eclipse',\n",
       "       'Countryman', 'G6', 'Rondo', 'Kizashi', 'Econoline E150',\n",
       "       'Equator', 'Trooper', 'S2000', 'Aventador', 'Escort ZX2',\n",
       "       'Highlander', 'Spectra', 'Lumina', 'V8 Vantage S', 'Aztek', '62',\n",
       "       'Sierra 3500', 'RS6', 'XLR', 'Clubman', 'Q', 'E-350 Super Duty',\n",
       "       'S90', 'Swift', 'GT-R', 'Civic GX', 'Vanquish S', 'Grand Voyager',\n",
       "       'Corvette', 'B-Series Plus', 'Patriot', '2e', 'Suburban', 'VUE',\n",
       "       'GT500', 'Rio5', 'Zephyr', 'Express', 'DB9', '2500', 'M6',\n",
       "       'Genesis Coupe', '57S', 'Tercel', 'Supra', 'Eldorado',\n",
       "       '612 Scaglietti', 'Baja', 'Hombre Space', 'Torrent', 'Jimmy',\n",
       "       'S80', 'G8', 'B9 Tribeca', 'Breeze', 'Alpina B7', 'Type-1h',\n",
       "       'Fiesta', 'XG300', 'Transit Connect', 'Tracer', 'L-Series',\n",
       "       'Daewoo Magnus', 'Panamera', 'Aero 8', 'Daewoo Lacetti', 'Sierra',\n",
       "       'Virage', 'Solstice', 'i-370', 'LS Hybrid', 'Defender Ice Edition',\n",
       "       'Uplander', 'Hombre', 'CR-Z', 'V50', 'B2500', 'SSR', 'Talon',\n",
       "       'Seville', 'Exige', 'Tucson', 'Explorer Sport', 'ZDX', 'Envoy XUV',\n",
       "       'XLR-V', 'Rodeo Sport', 'X6 M', '300C', 'Terrain', 'Riviera',\n",
       "       'F430 Spider', 'M Roadster', 'Aerio', 'LHS', 'Veyron', 'Taurus X',\n",
       "       'Montero Sport', '350Z Roadster', 'S-Type', 'Coupe', 'Ascender',\n",
       "       'ZX2', '550', 'Raider', 'E-350 Super Duty Van', 'Amigo', 'Eos',\n",
       "       'GLK-Class', 'Mark VIII', 'Camry Solara', 'Landaulet', 'Mark LT',\n",
       "       'Murciélago LP640', 'Touareg 2', 'G3', 'Esperante', 'H3T', 'xA',\n",
       "       'Contour', 'Achieva', 'Montego', 'GT', 'RS4', 'Navigator L',\n",
       "       'JUKE', 'Continental GTC', 'T100 Xtra', 'Journey', 'Hemisfear',\n",
       "       'Eurovan', 'SLX', 'Model 3', 'Sprinter 3500', 'CT',\n",
       "       'Mohave/Borrego', 'TH!NK', 'Spark LS', '9000', 'CX-5', 'LSS',\n",
       "       'Vue', 'Club Wagon', 'Impreza WRX', 'Leaf', 'MAZDA6', 'G25', 'A5',\n",
       "       'Prius c', '9-4X', 'Daewoo Kalos', 'FR-S', 'cube', 'Ion', 'Aspen',\n",
       "       '750', 'Evora', 'Yukon XL', 'NV1500', 'Protege5', 'C8 Double 12 S',\n",
       "       'Ipsum', 'rio', 'R32', 'Focus ST', 'Leganza', 'Nuova 500', 'Oasis',\n",
       "       'FCX Clarity', 'Marauder', 'G-Series 2500', 'HHR Panel',\n",
       "       'TrailBlazer', 'G-Series 1500', 'T100', 'Z4 M Roadster', 'Verano',\n",
       "       '240SX', 'C/V', 'STS-V', '500', 'Sonic', 'C8 Spyder Wide Body',\n",
       "       'Sparrow', 'Blackwood', 'Mazda6 5-Door', 'V90', 'Brooklands',\n",
       "       'Sierra 2500HD', 'Sierra 3500HD', 'Typ-1', 'Firebird Formula',\n",
       "       'Silverado Hybrid', 'NV2500', 'Crosstour', 'Model X', 'HED-5'],\n",
       "      dtype=object)"
      ]
     },
     "execution_count": 10,
     "metadata": {},
     "output_type": "execute_result"
    }
   ],
   "source": [
    "df.car_model.unique()"
   ]
  },
  {
   "cell_type": "markdown",
   "id": "c88c10b2",
   "metadata": {},
   "source": [
    "# Facebook Event Checking(Table 3)"
   ]
  },
  {
   "cell_type": "code",
   "execution_count": 76,
   "id": "7e8c890b",
   "metadata": {
    "ExecuteTime": {
     "end_time": "2023-11-04T10:23:59.983375Z",
     "start_time": "2023-11-04T10:23:59.942566Z"
    }
   },
   "outputs": [],
   "source": [
    "df=pd.read_csv(\"facebook_event_checkin.csv\")"
   ]
  },
  {
   "cell_type": "code",
   "execution_count": 28,
   "id": "8794e340",
   "metadata": {
    "ExecuteTime": {
     "end_time": "2023-11-04T09:54:11.407814Z",
     "start_time": "2023-11-04T09:54:11.389970Z"
    }
   },
   "outputs": [
    {
     "data": {
      "text/html": [
       "<div>\n",
       "<style scoped>\n",
       "    .dataframe tbody tr th:only-of-type {\n",
       "        vertical-align: middle;\n",
       "    }\n",
       "\n",
       "    .dataframe tbody tr th {\n",
       "        vertical-align: top;\n",
       "    }\n",
       "\n",
       "    .dataframe thead th {\n",
       "        text-align: right;\n",
       "    }\n",
       "</style>\n",
       "<table border=\"1\" class=\"dataframe\">\n",
       "  <thead>\n",
       "    <tr style=\"text-align: right;\">\n",
       "      <th></th>\n",
       "      <th>person_id</th>\n",
       "      <th>event_id</th>\n",
       "      <th>event_name</th>\n",
       "      <th>date</th>\n",
       "    </tr>\n",
       "  </thead>\n",
       "  <tbody>\n",
       "    <tr>\n",
       "      <th>0</th>\n",
       "      <td>28508</td>\n",
       "      <td>5880</td>\n",
       "      <td>Nudists are people who wear one-button suits.\\n</td>\n",
       "      <td>20170913</td>\n",
       "    </tr>\n",
       "    <tr>\n",
       "      <th>1</th>\n",
       "      <td>63713</td>\n",
       "      <td>3865</td>\n",
       "      <td>but that's because it's the best book on anyth...</td>\n",
       "      <td>20171009</td>\n",
       "    </tr>\n",
       "    <tr>\n",
       "      <th>2</th>\n",
       "      <td>63713</td>\n",
       "      <td>3999</td>\n",
       "      <td>If Murphy's Law can go wrong, it will.\\n</td>\n",
       "      <td>20170502</td>\n",
       "    </tr>\n",
       "    <tr>\n",
       "      <th>3</th>\n",
       "      <td>63713</td>\n",
       "      <td>6436</td>\n",
       "      <td>Old programmers never die.  They just branch t...</td>\n",
       "      <td>20170926</td>\n",
       "    </tr>\n",
       "    <tr>\n",
       "      <th>4</th>\n",
       "      <td>82998</td>\n",
       "      <td>4470</td>\n",
       "      <td>Help a swallow land at Capistrano.\\n</td>\n",
       "      <td>20171022</td>\n",
       "    </tr>\n",
       "    <tr>\n",
       "      <th>...</th>\n",
       "      <td>...</td>\n",
       "      <td>...</td>\n",
       "      <td>...</td>\n",
       "      <td>...</td>\n",
       "    </tr>\n",
       "    <tr>\n",
       "      <th>20006</th>\n",
       "      <td>99716</td>\n",
       "      <td>1143</td>\n",
       "      <td>SQL Symphony Concert</td>\n",
       "      <td>20171206</td>\n",
       "    </tr>\n",
       "    <tr>\n",
       "      <th>20007</th>\n",
       "      <td>99716</td>\n",
       "      <td>1143</td>\n",
       "      <td>SQL Symphony Concert</td>\n",
       "      <td>20171212</td>\n",
       "    </tr>\n",
       "    <tr>\n",
       "      <th>20008</th>\n",
       "      <td>99716</td>\n",
       "      <td>1143</td>\n",
       "      <td>SQL Symphony Concert</td>\n",
       "      <td>20171229</td>\n",
       "    </tr>\n",
       "    <tr>\n",
       "      <th>20009</th>\n",
       "      <td>67318</td>\n",
       "      <td>4719</td>\n",
       "      <td>The Funky Grooves Tour</td>\n",
       "      <td>20180115</td>\n",
       "    </tr>\n",
       "    <tr>\n",
       "      <th>20010</th>\n",
       "      <td>67318</td>\n",
       "      <td>1143</td>\n",
       "      <td>SQL Symphony Concert</td>\n",
       "      <td>20171206</td>\n",
       "    </tr>\n",
       "  </tbody>\n",
       "</table>\n",
       "<p>20011 rows × 4 columns</p>\n",
       "</div>"
      ],
      "text/plain": [
       "       person_id  event_id                                         event_name  \\\n",
       "0          28508      5880    Nudists are people who wear one-button suits.\\n   \n",
       "1          63713      3865  but that's because it's the best book on anyth...   \n",
       "2          63713      3999           If Murphy's Law can go wrong, it will.\\n   \n",
       "3          63713      6436  Old programmers never die.  They just branch t...   \n",
       "4          82998      4470               Help a swallow land at Capistrano.\\n   \n",
       "...          ...       ...                                                ...   \n",
       "20006      99716      1143                               SQL Symphony Concert   \n",
       "20007      99716      1143                               SQL Symphony Concert   \n",
       "20008      99716      1143                               SQL Symphony Concert   \n",
       "20009      67318      4719                             The Funky Grooves Tour   \n",
       "20010      67318      1143                               SQL Symphony Concert   \n",
       "\n",
       "           date  \n",
       "0      20170913  \n",
       "1      20171009  \n",
       "2      20170502  \n",
       "3      20170926  \n",
       "4      20171022  \n",
       "...         ...  \n",
       "20006  20171206  \n",
       "20007  20171212  \n",
       "20008  20171229  \n",
       "20009  20180115  \n",
       "20010  20171206  \n",
       "\n",
       "[20011 rows x 4 columns]"
      ]
     },
     "execution_count": 28,
     "metadata": {},
     "output_type": "execute_result"
    }
   ],
   "source": [
    "df"
   ]
  },
  {
   "cell_type": "code",
   "execution_count": 29,
   "id": "0ef62cd5",
   "metadata": {
    "ExecuteTime": {
     "end_time": "2023-11-04T09:54:27.286233Z",
     "start_time": "2023-11-04T09:54:27.279036Z"
    }
   },
   "outputs": [
    {
     "data": {
      "text/plain": [
       "(80044, (20011, 4))"
      ]
     },
     "execution_count": 29,
     "metadata": {},
     "output_type": "execute_result"
    }
   ],
   "source": [
    "df.size,df.shape"
   ]
  },
  {
   "cell_type": "code",
   "execution_count": 30,
   "id": "b5eacab9",
   "metadata": {
    "ExecuteTime": {
     "end_time": "2023-11-04T09:54:31.635776Z",
     "start_time": "2023-11-04T09:54:31.627540Z"
    }
   },
   "outputs": [
    {
     "data": {
      "text/plain": [
       "person_id      int64\n",
       "event_id       int64\n",
       "event_name    object\n",
       "date           int64\n",
       "dtype: object"
      ]
     },
     "execution_count": 30,
     "metadata": {},
     "output_type": "execute_result"
    }
   ],
   "source": [
    "df.dtypes\n",
    "# here changes should be made to the date column with a proper schema(date type)"
   ]
  },
  {
   "cell_type": "code",
   "execution_count": 77,
   "id": "e9e15a75",
   "metadata": {
    "ExecuteTime": {
     "end_time": "2023-11-04T10:24:07.408995Z",
     "start_time": "2023-11-04T10:24:07.398723Z"
    }
   },
   "outputs": [
    {
     "data": {
      "text/plain": [
       "person_id     0\n",
       "event_id      0\n",
       "event_name    0\n",
       "date          0\n",
       "dtype: int64"
      ]
     },
     "execution_count": 77,
     "metadata": {},
     "output_type": "execute_result"
    }
   ],
   "source": [
    "df.isna().sum()\n",
    "# no null values"
   ]
  },
  {
   "cell_type": "code",
   "execution_count": 39,
   "id": "934c3158",
   "metadata": {
    "ExecuteTime": {
     "end_time": "2023-11-04T09:57:02.798402Z",
     "start_time": "2023-11-04T09:57:02.789427Z"
    }
   },
   "outputs": [
    {
     "data": {
      "text/plain": [
       "486"
      ]
     },
     "execution_count": 39,
     "metadata": {},
     "output_type": "execute_result"
    }
   ],
   "source": [
    "df.date.nunique()\n",
    "# so the data is given for the 486 days"
   ]
  },
  {
   "cell_type": "markdown",
   "id": "99576d35",
   "metadata": {},
   "source": [
    "# Get Fit Now Check In (Table 4)"
   ]
  },
  {
   "cell_type": "code",
   "execution_count": 78,
   "id": "c46a5188",
   "metadata": {
    "ExecuteTime": {
     "end_time": "2023-11-04T10:24:11.694811Z",
     "start_time": "2023-11-04T10:24:11.683656Z"
    }
   },
   "outputs": [],
   "source": [
    "df=pd.read_csv(\"get_fit_now_check_in.csv\")"
   ]
  },
  {
   "cell_type": "code",
   "execution_count": 43,
   "id": "5be5f89b",
   "metadata": {
    "ExecuteTime": {
     "end_time": "2023-11-04T09:59:20.369176Z",
     "start_time": "2023-11-04T09:59:20.350381Z"
    }
   },
   "outputs": [
    {
     "data": {
      "text/html": [
       "<div>\n",
       "<style scoped>\n",
       "    .dataframe tbody tr th:only-of-type {\n",
       "        vertical-align: middle;\n",
       "    }\n",
       "\n",
       "    .dataframe tbody tr th {\n",
       "        vertical-align: top;\n",
       "    }\n",
       "\n",
       "    .dataframe thead th {\n",
       "        text-align: right;\n",
       "    }\n",
       "</style>\n",
       "<table border=\"1\" class=\"dataframe\">\n",
       "  <thead>\n",
       "    <tr style=\"text-align: right;\">\n",
       "      <th></th>\n",
       "      <th>membership_id</th>\n",
       "      <th>check_in_date</th>\n",
       "      <th>check_in_time</th>\n",
       "      <th>check_out_time</th>\n",
       "    </tr>\n",
       "  </thead>\n",
       "  <tbody>\n",
       "    <tr>\n",
       "      <th>0</th>\n",
       "      <td>NL318</td>\n",
       "      <td>20180212</td>\n",
       "      <td>329</td>\n",
       "      <td>365</td>\n",
       "    </tr>\n",
       "    <tr>\n",
       "      <th>1</th>\n",
       "      <td>NL318</td>\n",
       "      <td>20170811</td>\n",
       "      <td>469</td>\n",
       "      <td>920</td>\n",
       "    </tr>\n",
       "    <tr>\n",
       "      <th>2</th>\n",
       "      <td>NL318</td>\n",
       "      <td>20180429</td>\n",
       "      <td>506</td>\n",
       "      <td>554</td>\n",
       "    </tr>\n",
       "    <tr>\n",
       "      <th>3</th>\n",
       "      <td>NL318</td>\n",
       "      <td>20180128</td>\n",
       "      <td>124</td>\n",
       "      <td>759</td>\n",
       "    </tr>\n",
       "    <tr>\n",
       "      <th>4</th>\n",
       "      <td>NL318</td>\n",
       "      <td>20171027</td>\n",
       "      <td>418</td>\n",
       "      <td>1019</td>\n",
       "    </tr>\n",
       "    <tr>\n",
       "      <th>...</th>\n",
       "      <td>...</td>\n",
       "      <td>...</td>\n",
       "      <td>...</td>\n",
       "      <td>...</td>\n",
       "    </tr>\n",
       "    <tr>\n",
       "      <th>2698</th>\n",
       "      <td>4KB72</td>\n",
       "      <td>20170422</td>\n",
       "      <td>1016</td>\n",
       "      <td>1114</td>\n",
       "    </tr>\n",
       "    <tr>\n",
       "      <th>2699</th>\n",
       "      <td>4KB72</td>\n",
       "      <td>20170630</td>\n",
       "      <td>408</td>\n",
       "      <td>885</td>\n",
       "    </tr>\n",
       "    <tr>\n",
       "      <th>2700</th>\n",
       "      <td>48Z7A</td>\n",
       "      <td>20180109</td>\n",
       "      <td>1600</td>\n",
       "      <td>1730</td>\n",
       "    </tr>\n",
       "    <tr>\n",
       "      <th>2701</th>\n",
       "      <td>48Z55</td>\n",
       "      <td>20180109</td>\n",
       "      <td>1530</td>\n",
       "      <td>1700</td>\n",
       "    </tr>\n",
       "    <tr>\n",
       "      <th>2702</th>\n",
       "      <td>90081</td>\n",
       "      <td>20180109</td>\n",
       "      <td>1600</td>\n",
       "      <td>1700</td>\n",
       "    </tr>\n",
       "  </tbody>\n",
       "</table>\n",
       "<p>2703 rows × 4 columns</p>\n",
       "</div>"
      ],
      "text/plain": [
       "     membership_id  check_in_date  check_in_time  check_out_time\n",
       "0            NL318       20180212            329             365\n",
       "1            NL318       20170811            469             920\n",
       "2            NL318       20180429            506             554\n",
       "3            NL318       20180128            124             759\n",
       "4            NL318       20171027            418            1019\n",
       "...            ...            ...            ...             ...\n",
       "2698         4KB72       20170422           1016            1114\n",
       "2699         4KB72       20170630            408             885\n",
       "2700         48Z7A       20180109           1600            1730\n",
       "2701         48Z55       20180109           1530            1700\n",
       "2702         90081       20180109           1600            1700\n",
       "\n",
       "[2703 rows x 4 columns]"
      ]
     },
     "execution_count": 43,
     "metadata": {},
     "output_type": "execute_result"
    }
   ],
   "source": [
    "df"
   ]
  },
  {
   "cell_type": "code",
   "execution_count": 44,
   "id": "ac21988a",
   "metadata": {
    "ExecuteTime": {
     "end_time": "2023-11-04T09:59:55.632995Z",
     "start_time": "2023-11-04T09:59:55.624914Z"
    }
   },
   "outputs": [
    {
     "data": {
      "text/plain": [
       "(10812, (2703, 4))"
      ]
     },
     "execution_count": 44,
     "metadata": {},
     "output_type": "execute_result"
    }
   ],
   "source": [
    "df.size,df.shape"
   ]
  },
  {
   "cell_type": "code",
   "execution_count": 45,
   "id": "64795b92",
   "metadata": {
    "ExecuteTime": {
     "end_time": "2023-11-04T10:00:04.789510Z",
     "start_time": "2023-11-04T10:00:04.780163Z"
    }
   },
   "outputs": [
    {
     "data": {
      "text/plain": [
       "membership_id     object\n",
       "check_in_date      int64\n",
       "check_in_time      int64\n",
       "check_out_time     int64\n",
       "dtype: object"
      ]
     },
     "execution_count": 45,
     "metadata": {},
     "output_type": "execute_result"
    }
   ],
   "source": [
    "df.dtypes\n",
    "# here changes should be made to the date column with a proper schema(date type)\n",
    "# and the check in time and check out time is given in the minutes (considering 0 as 12:00AM on that given date)\n",
    "# so getting the difference between the check out time and check in time will give the total duration of check-in"
   ]
  },
  {
   "cell_type": "code",
   "execution_count": 79,
   "id": "56ed1848",
   "metadata": {
    "ExecuteTime": {
     "end_time": "2023-11-04T10:24:18.497144Z",
     "start_time": "2023-11-04T10:24:18.487748Z"
    }
   },
   "outputs": [
    {
     "data": {
      "text/plain": [
       "membership_id     0\n",
       "check_in_date     0\n",
       "check_in_time     0\n",
       "check_out_time    0\n",
       "dtype: int64"
      ]
     },
     "execution_count": 79,
     "metadata": {},
     "output_type": "execute_result"
    }
   ],
   "source": [
    "df.isna().sum()\n",
    "# no null values"
   ]
  },
  {
   "cell_type": "code",
   "execution_count": 46,
   "id": "82f1b201",
   "metadata": {
    "ExecuteTime": {
     "end_time": "2023-11-04T10:02:06.285593Z",
     "start_time": "2023-11-04T10:02:06.278166Z"
    }
   },
   "outputs": [
    {
     "data": {
      "text/plain": [
       "184"
      ]
     },
     "execution_count": 46,
     "metadata": {},
     "output_type": "execute_result"
    }
   ],
   "source": [
    "df.membership_id.nunique()\n",
    "# 184 unique members are there"
   ]
  },
  {
   "cell_type": "markdown",
   "id": "60b74947",
   "metadata": {},
   "source": [
    "# Get Fit Now Member (Table 5)"
   ]
  },
  {
   "cell_type": "code",
   "execution_count": 80,
   "id": "bc1e4830",
   "metadata": {
    "ExecuteTime": {
     "end_time": "2023-11-04T10:24:21.439211Z",
     "start_time": "2023-11-04T10:24:21.429919Z"
    }
   },
   "outputs": [],
   "source": [
    "df=pd.read_csv(\"get_fit_now_member.csv\")"
   ]
  },
  {
   "cell_type": "code",
   "execution_count": 48,
   "id": "122fd58e",
   "metadata": {
    "ExecuteTime": {
     "end_time": "2023-11-04T10:03:13.966999Z",
     "start_time": "2023-11-04T10:03:13.948310Z"
    }
   },
   "outputs": [
    {
     "data": {
      "text/html": [
       "<div>\n",
       "<style scoped>\n",
       "    .dataframe tbody tr th:only-of-type {\n",
       "        vertical-align: middle;\n",
       "    }\n",
       "\n",
       "    .dataframe tbody tr th {\n",
       "        vertical-align: top;\n",
       "    }\n",
       "\n",
       "    .dataframe thead th {\n",
       "        text-align: right;\n",
       "    }\n",
       "</style>\n",
       "<table border=\"1\" class=\"dataframe\">\n",
       "  <thead>\n",
       "    <tr style=\"text-align: right;\">\n",
       "      <th></th>\n",
       "      <th>id</th>\n",
       "      <th>person_id</th>\n",
       "      <th>name</th>\n",
       "      <th>membership_start_date</th>\n",
       "      <th>membership_status</th>\n",
       "    </tr>\n",
       "  </thead>\n",
       "  <tbody>\n",
       "    <tr>\n",
       "      <th>0</th>\n",
       "      <td>NL318</td>\n",
       "      <td>65076</td>\n",
       "      <td>Everette Koepke</td>\n",
       "      <td>20170926</td>\n",
       "      <td>gold</td>\n",
       "    </tr>\n",
       "    <tr>\n",
       "      <th>1</th>\n",
       "      <td>AOE21</td>\n",
       "      <td>39426</td>\n",
       "      <td>Noe Locascio</td>\n",
       "      <td>20171005</td>\n",
       "      <td>regular</td>\n",
       "    </tr>\n",
       "    <tr>\n",
       "      <th>2</th>\n",
       "      <td>2PN28</td>\n",
       "      <td>63823</td>\n",
       "      <td>Jeromy Heitschmidt</td>\n",
       "      <td>20180215</td>\n",
       "      <td>silver</td>\n",
       "    </tr>\n",
       "    <tr>\n",
       "      <th>3</th>\n",
       "      <td>0YJ24</td>\n",
       "      <td>80651</td>\n",
       "      <td>Waneta Wellard</td>\n",
       "      <td>20171206</td>\n",
       "      <td>gold</td>\n",
       "    </tr>\n",
       "    <tr>\n",
       "      <th>4</th>\n",
       "      <td>3A08L</td>\n",
       "      <td>32858</td>\n",
       "      <td>Mei Bianchin</td>\n",
       "      <td>20170401</td>\n",
       "      <td>silver</td>\n",
       "    </tr>\n",
       "    <tr>\n",
       "      <th>...</th>\n",
       "      <td>...</td>\n",
       "      <td>...</td>\n",
       "      <td>...</td>\n",
       "      <td>...</td>\n",
       "      <td>...</td>\n",
       "    </tr>\n",
       "    <tr>\n",
       "      <th>179</th>\n",
       "      <td>2V137</td>\n",
       "      <td>41693</td>\n",
       "      <td>Wendell Dulany</td>\n",
       "      <td>20171219</td>\n",
       "      <td>silver</td>\n",
       "    </tr>\n",
       "    <tr>\n",
       "      <th>180</th>\n",
       "      <td>4KB72</td>\n",
       "      <td>79110</td>\n",
       "      <td>Emile Hege</td>\n",
       "      <td>20170522</td>\n",
       "      <td>regular</td>\n",
       "    </tr>\n",
       "    <tr>\n",
       "      <th>181</th>\n",
       "      <td>48Z7A</td>\n",
       "      <td>28819</td>\n",
       "      <td>Joe Germuska</td>\n",
       "      <td>20160305</td>\n",
       "      <td>gold</td>\n",
       "    </tr>\n",
       "    <tr>\n",
       "      <th>182</th>\n",
       "      <td>48Z55</td>\n",
       "      <td>67318</td>\n",
       "      <td>Jeremy Bowers</td>\n",
       "      <td>20160101</td>\n",
       "      <td>gold</td>\n",
       "    </tr>\n",
       "    <tr>\n",
       "      <th>183</th>\n",
       "      <td>90081</td>\n",
       "      <td>16371</td>\n",
       "      <td>Annabel Miller</td>\n",
       "      <td>20160208</td>\n",
       "      <td>gold</td>\n",
       "    </tr>\n",
       "  </tbody>\n",
       "</table>\n",
       "<p>184 rows × 5 columns</p>\n",
       "</div>"
      ],
      "text/plain": [
       "        id  person_id                name  membership_start_date  \\\n",
       "0    NL318      65076     Everette Koepke               20170926   \n",
       "1    AOE21      39426        Noe Locascio               20171005   \n",
       "2    2PN28      63823  Jeromy Heitschmidt               20180215   \n",
       "3    0YJ24      80651      Waneta Wellard               20171206   \n",
       "4    3A08L      32858        Mei Bianchin               20170401   \n",
       "..     ...        ...                 ...                    ...   \n",
       "179  2V137      41693      Wendell Dulany               20171219   \n",
       "180  4KB72      79110          Emile Hege               20170522   \n",
       "181  48Z7A      28819        Joe Germuska               20160305   \n",
       "182  48Z55      67318       Jeremy Bowers               20160101   \n",
       "183  90081      16371      Annabel Miller               20160208   \n",
       "\n",
       "    membership_status  \n",
       "0                gold  \n",
       "1             regular  \n",
       "2              silver  \n",
       "3                gold  \n",
       "4              silver  \n",
       "..                ...  \n",
       "179            silver  \n",
       "180           regular  \n",
       "181              gold  \n",
       "182              gold  \n",
       "183              gold  \n",
       "\n",
       "[184 rows x 5 columns]"
      ]
     },
     "execution_count": 48,
     "metadata": {},
     "output_type": "execute_result"
    }
   ],
   "source": [
    "df"
   ]
  },
  {
   "cell_type": "code",
   "execution_count": 49,
   "id": "ea9e0b53",
   "metadata": {
    "ExecuteTime": {
     "end_time": "2023-11-04T10:03:22.190395Z",
     "start_time": "2023-11-04T10:03:22.183438Z"
    }
   },
   "outputs": [
    {
     "data": {
      "text/plain": [
       "(920, (184, 5))"
      ]
     },
     "execution_count": 49,
     "metadata": {},
     "output_type": "execute_result"
    }
   ],
   "source": [
    "df.size,df.shape"
   ]
  },
  {
   "cell_type": "code",
   "execution_count": 50,
   "id": "1cbd18ad",
   "metadata": {
    "ExecuteTime": {
     "end_time": "2023-11-04T10:03:27.368592Z",
     "start_time": "2023-11-04T10:03:27.359229Z"
    },
    "scrolled": true
   },
   "outputs": [
    {
     "data": {
      "text/plain": [
       "id                       object\n",
       "person_id                 int64\n",
       "name                     object\n",
       "membership_start_date     int64\n",
       "membership_status        object\n",
       "dtype: object"
      ]
     },
     "execution_count": 50,
     "metadata": {},
     "output_type": "execute_result"
    }
   ],
   "source": [
    "df.dtypes\n",
    "# here changes should be made to the date column with a proper schema(date type)"
   ]
  },
  {
   "cell_type": "code",
   "execution_count": 81,
   "id": "3a8bb637",
   "metadata": {
    "ExecuteTime": {
     "end_time": "2023-11-04T10:24:28.244604Z",
     "start_time": "2023-11-04T10:24:28.234464Z"
    }
   },
   "outputs": [
    {
     "data": {
      "text/plain": [
       "id                       0\n",
       "person_id                0\n",
       "name                     0\n",
       "membership_start_date    0\n",
       "membership_status        0\n",
       "dtype: int64"
      ]
     },
     "execution_count": 81,
     "metadata": {},
     "output_type": "execute_result"
    }
   ],
   "source": [
    "df.isna().sum()\n",
    "# no null values"
   ]
  },
  {
   "cell_type": "code",
   "execution_count": 52,
   "id": "71623254",
   "metadata": {
    "ExecuteTime": {
     "end_time": "2023-11-04T10:04:22.144770Z",
     "start_time": "2023-11-04T10:04:22.137214Z"
    }
   },
   "outputs": [
    {
     "data": {
      "text/plain": [
       "array(['gold', 'regular', 'silver'], dtype=object)"
      ]
     },
     "execution_count": 52,
     "metadata": {},
     "output_type": "execute_result"
    }
   ],
   "source": [
    "df.membership_status.unique()"
   ]
  },
  {
   "cell_type": "code",
   "execution_count": 55,
   "id": "69edd8df",
   "metadata": {
    "ExecuteTime": {
     "end_time": "2023-11-04T10:05:32.452103Z",
     "start_time": "2023-11-04T10:05:32.445279Z"
    }
   },
   "outputs": [
    {
     "data": {
      "text/plain": [
       "184"
      ]
     },
     "execution_count": 55,
     "metadata": {},
     "output_type": "execute_result"
    }
   ],
   "source": [
    "df.person_id.nunique()"
   ]
  },
  {
   "cell_type": "code",
   "execution_count": 56,
   "id": "f88cbe2f",
   "metadata": {
    "ExecuteTime": {
     "end_time": "2023-11-04T10:06:13.772582Z",
     "start_time": "2023-11-04T10:06:13.763740Z"
    }
   },
   "outputs": [
    {
     "data": {
      "text/plain": [
       "184"
      ]
     },
     "execution_count": 56,
     "metadata": {},
     "output_type": "execute_result"
    }
   ],
   "source": [
    "df.id.nunique()\n",
    "# we can conclude by seeing the above cells , that each person has a unique person ID and membership ID"
   ]
  },
  {
   "cell_type": "markdown",
   "id": "f9ee8544",
   "metadata": {},
   "source": [
    "# Income (Table 6)"
   ]
  },
  {
   "cell_type": "code",
   "execution_count": 82,
   "id": "3d986f82",
   "metadata": {
    "ExecuteTime": {
     "end_time": "2023-11-04T10:24:30.731682Z",
     "start_time": "2023-11-04T10:24:30.718126Z"
    }
   },
   "outputs": [],
   "source": [
    "df=pd.read_csv(\"income.csv\")"
   ]
  },
  {
   "cell_type": "code",
   "execution_count": 59,
   "id": "57ffa781",
   "metadata": {
    "ExecuteTime": {
     "end_time": "2023-11-04T10:15:18.266797Z",
     "start_time": "2023-11-04T10:15:18.255171Z"
    }
   },
   "outputs": [
    {
     "data": {
      "text/html": [
       "<div>\n",
       "<style scoped>\n",
       "    .dataframe tbody tr th:only-of-type {\n",
       "        vertical-align: middle;\n",
       "    }\n",
       "\n",
       "    .dataframe tbody tr th {\n",
       "        vertical-align: top;\n",
       "    }\n",
       "\n",
       "    .dataframe thead th {\n",
       "        text-align: right;\n",
       "    }\n",
       "</style>\n",
       "<table border=\"1\" class=\"dataframe\">\n",
       "  <thead>\n",
       "    <tr style=\"text-align: right;\">\n",
       "      <th></th>\n",
       "      <th>ssn</th>\n",
       "      <th>annual_income</th>\n",
       "    </tr>\n",
       "  </thead>\n",
       "  <tbody>\n",
       "    <tr>\n",
       "      <th>0</th>\n",
       "      <td>100009868</td>\n",
       "      <td>52200</td>\n",
       "    </tr>\n",
       "    <tr>\n",
       "      <th>1</th>\n",
       "      <td>100169584</td>\n",
       "      <td>64500</td>\n",
       "    </tr>\n",
       "    <tr>\n",
       "      <th>2</th>\n",
       "      <td>100300433</td>\n",
       "      <td>74400</td>\n",
       "    </tr>\n",
       "    <tr>\n",
       "      <th>3</th>\n",
       "      <td>100355733</td>\n",
       "      <td>35900</td>\n",
       "    </tr>\n",
       "    <tr>\n",
       "      <th>4</th>\n",
       "      <td>100366269</td>\n",
       "      <td>73000</td>\n",
       "    </tr>\n",
       "    <tr>\n",
       "      <th>...</th>\n",
       "      <td>...</td>\n",
       "      <td>...</td>\n",
       "    </tr>\n",
       "    <tr>\n",
       "      <th>7509</th>\n",
       "      <td>999679296</td>\n",
       "      <td>54400</td>\n",
       "    </tr>\n",
       "    <tr>\n",
       "      <th>7510</th>\n",
       "      <td>999762859</td>\n",
       "      <td>77000</td>\n",
       "    </tr>\n",
       "    <tr>\n",
       "      <th>7511</th>\n",
       "      <td>999824984</td>\n",
       "      <td>82000</td>\n",
       "    </tr>\n",
       "    <tr>\n",
       "      <th>7512</th>\n",
       "      <td>999910617</td>\n",
       "      <td>82600</td>\n",
       "    </tr>\n",
       "    <tr>\n",
       "      <th>7513</th>\n",
       "      <td>999942603</td>\n",
       "      <td>11500</td>\n",
       "    </tr>\n",
       "  </tbody>\n",
       "</table>\n",
       "<p>7514 rows × 2 columns</p>\n",
       "</div>"
      ],
      "text/plain": [
       "            ssn  annual_income\n",
       "0     100009868          52200\n",
       "1     100169584          64500\n",
       "2     100300433          74400\n",
       "3     100355733          35900\n",
       "4     100366269          73000\n",
       "...         ...            ...\n",
       "7509  999679296          54400\n",
       "7510  999762859          77000\n",
       "7511  999824984          82000\n",
       "7512  999910617          82600\n",
       "7513  999942603          11500\n",
       "\n",
       "[7514 rows x 2 columns]"
      ]
     },
     "execution_count": 59,
     "metadata": {},
     "output_type": "execute_result"
    }
   ],
   "source": [
    "df"
   ]
  },
  {
   "cell_type": "code",
   "execution_count": 60,
   "id": "394d886b",
   "metadata": {
    "ExecuteTime": {
     "end_time": "2023-11-04T10:15:33.058354Z",
     "start_time": "2023-11-04T10:15:33.048917Z"
    }
   },
   "outputs": [
    {
     "data": {
      "text/plain": [
       "(15028, (7514, 2))"
      ]
     },
     "execution_count": 60,
     "metadata": {},
     "output_type": "execute_result"
    }
   ],
   "source": [
    "df.size,df.shape"
   ]
  },
  {
   "cell_type": "code",
   "execution_count": 61,
   "id": "bc25c6b1",
   "metadata": {
    "ExecuteTime": {
     "end_time": "2023-11-04T10:15:37.023484Z",
     "start_time": "2023-11-04T10:15:37.014714Z"
    }
   },
   "outputs": [
    {
     "data": {
      "text/plain": [
       "ssn              int64\n",
       "annual_income    int64\n",
       "dtype: object"
      ]
     },
     "execution_count": 61,
     "metadata": {},
     "output_type": "execute_result"
    }
   ],
   "source": [
    "df.dtypes"
   ]
  },
  {
   "cell_type": "code",
   "execution_count": 83,
   "id": "bb9563d9",
   "metadata": {
    "ExecuteTime": {
     "end_time": "2023-11-04T10:24:36.478240Z",
     "start_time": "2023-11-04T10:24:36.469116Z"
    }
   },
   "outputs": [
    {
     "data": {
      "text/plain": [
       "ssn              0\n",
       "annual_income    0\n",
       "dtype: int64"
      ]
     },
     "execution_count": 83,
     "metadata": {},
     "output_type": "execute_result"
    }
   ],
   "source": [
    "df.isna().sum()\n",
    "# no null values"
   ]
  },
  {
   "cell_type": "code",
   "execution_count": 63,
   "id": "6c1260f2",
   "metadata": {
    "ExecuteTime": {
     "end_time": "2023-11-04T10:16:04.936144Z",
     "start_time": "2023-11-04T10:16:04.928451Z"
    }
   },
   "outputs": [
    {
     "data": {
      "text/plain": [
       "(10000, 498500)"
      ]
     },
     "execution_count": 63,
     "metadata": {},
     "output_type": "execute_result"
    }
   ],
   "source": [
    "df.annual_income.min(),df.annual_income.max()\n",
    "# so the salary ranges from 10000 to 498500"
   ]
  },
  {
   "cell_type": "code",
   "execution_count": 64,
   "id": "20fae7e2",
   "metadata": {
    "ExecuteTime": {
     "end_time": "2023-11-04T10:16:45.013460Z",
     "start_time": "2023-11-04T10:16:45.005653Z"
    }
   },
   "outputs": [
    {
     "data": {
      "text/plain": [
       "7514"
      ]
     },
     "execution_count": 64,
     "metadata": {},
     "output_type": "execute_result"
    }
   ],
   "source": [
    "df.ssn.nunique()\n",
    "#Social Security Number is a unique nine-digit identification number issued by the United States government\n",
    "#SSN are used to verify a person's identity and employment eligibility and are considered sensitive personal information."
   ]
  },
  {
   "cell_type": "markdown",
   "id": "39ae582e",
   "metadata": {},
   "source": [
    "# Interview (Table 7)"
   ]
  },
  {
   "cell_type": "code",
   "execution_count": 4,
   "id": "cdb433d4",
   "metadata": {
    "ExecuteTime": {
     "end_time": "2023-11-04T13:46:23.113154Z",
     "start_time": "2023-11-04T13:46:22.917277Z"
    }
   },
   "outputs": [],
   "source": [
    "df=pd.read_csv(\"interview.csv\")"
   ]
  },
  {
   "cell_type": "code",
   "execution_count": 66,
   "id": "5a92655f",
   "metadata": {
    "ExecuteTime": {
     "end_time": "2023-11-04T10:19:01.679739Z",
     "start_time": "2023-11-04T10:19:01.664582Z"
    }
   },
   "outputs": [
    {
     "data": {
      "text/html": [
       "<div>\n",
       "<style scoped>\n",
       "    .dataframe tbody tr th:only-of-type {\n",
       "        vertical-align: middle;\n",
       "    }\n",
       "\n",
       "    .dataframe tbody tr th {\n",
       "        vertical-align: top;\n",
       "    }\n",
       "\n",
       "    .dataframe thead th {\n",
       "        text-align: right;\n",
       "    }\n",
       "</style>\n",
       "<table border=\"1\" class=\"dataframe\">\n",
       "  <thead>\n",
       "    <tr style=\"text-align: right;\">\n",
       "      <th></th>\n",
       "      <th>person_id</th>\n",
       "      <th>transcript</th>\n",
       "    </tr>\n",
       "  </thead>\n",
       "  <tbody>\n",
       "    <tr>\n",
       "      <th>0</th>\n",
       "      <td>28508</td>\n",
       "      <td>‘I deny it!’ said the March Hare.\\n</td>\n",
       "    </tr>\n",
       "    <tr>\n",
       "      <th>1</th>\n",
       "      <td>63713</td>\n",
       "      <td>\\n</td>\n",
       "    </tr>\n",
       "    <tr>\n",
       "      <th>2</th>\n",
       "      <td>86208</td>\n",
       "      <td>way, and the whole party swam to the shore.\\n</td>\n",
       "    </tr>\n",
       "    <tr>\n",
       "      <th>3</th>\n",
       "      <td>35267</td>\n",
       "      <td>lessons in here? Why, there’s hardly room for ...</td>\n",
       "    </tr>\n",
       "    <tr>\n",
       "      <th>4</th>\n",
       "      <td>33856</td>\n",
       "      <td>\\n</td>\n",
       "    </tr>\n",
       "    <tr>\n",
       "      <th>...</th>\n",
       "      <td>...</td>\n",
       "      <td>...</td>\n",
       "    </tr>\n",
       "    <tr>\n",
       "      <th>4986</th>\n",
       "      <td>37357</td>\n",
       "      <td>Alice did not wish to offend the Dormouse agai...</td>\n",
       "    </tr>\n",
       "    <tr>\n",
       "      <th>4987</th>\n",
       "      <td>10206</td>\n",
       "      <td>time,’ she said, ‘than waste it in asking ridd...</td>\n",
       "    </tr>\n",
       "    <tr>\n",
       "      <th>4988</th>\n",
       "      <td>14887</td>\n",
       "      <td>I heard a gunshot and then saw a man run out. ...</td>\n",
       "    </tr>\n",
       "    <tr>\n",
       "      <th>4989</th>\n",
       "      <td>16371</td>\n",
       "      <td>I saw the murder happen, and I recognized the ...</td>\n",
       "    </tr>\n",
       "    <tr>\n",
       "      <th>4990</th>\n",
       "      <td>67318</td>\n",
       "      <td>I was hired by a woman with a lot of money. I ...</td>\n",
       "    </tr>\n",
       "  </tbody>\n",
       "</table>\n",
       "<p>4991 rows × 2 columns</p>\n",
       "</div>"
      ],
      "text/plain": [
       "      person_id                                         transcript\n",
       "0         28508                ‘I deny it!’ said the March Hare.\\n\n",
       "1         63713                                                 \\n\n",
       "2         86208      way, and the whole party swam to the shore.\\n\n",
       "3         35267  lessons in here? Why, there’s hardly room for ...\n",
       "4         33856                                                 \\n\n",
       "...         ...                                                ...\n",
       "4986      37357  Alice did not wish to offend the Dormouse agai...\n",
       "4987      10206  time,’ she said, ‘than waste it in asking ridd...\n",
       "4988      14887  I heard a gunshot and then saw a man run out. ...\n",
       "4989      16371  I saw the murder happen, and I recognized the ...\n",
       "4990      67318  I was hired by a woman with a lot of money. I ...\n",
       "\n",
       "[4991 rows x 2 columns]"
      ]
     },
     "execution_count": 66,
     "metadata": {},
     "output_type": "execute_result"
    }
   ],
   "source": [
    "df"
   ]
  },
  {
   "cell_type": "code",
   "execution_count": 68,
   "id": "83a8c3b8",
   "metadata": {
    "ExecuteTime": {
     "end_time": "2023-11-04T10:19:22.969604Z",
     "start_time": "2023-11-04T10:19:22.962445Z"
    }
   },
   "outputs": [
    {
     "data": {
      "text/plain": [
       "(9982, (4991, 2))"
      ]
     },
     "execution_count": 68,
     "metadata": {},
     "output_type": "execute_result"
    }
   ],
   "source": [
    "df.size,df.shape"
   ]
  },
  {
   "cell_type": "code",
   "execution_count": 67,
   "id": "3dd1cb49",
   "metadata": {
    "ExecuteTime": {
     "end_time": "2023-11-04T10:19:07.869573Z",
     "start_time": "2023-11-04T10:19:07.860948Z"
    }
   },
   "outputs": [
    {
     "data": {
      "text/plain": [
       "person_id      int64\n",
       "transcript    object\n",
       "dtype: object"
      ]
     },
     "execution_count": 67,
     "metadata": {},
     "output_type": "execute_result"
    }
   ],
   "source": [
    "df.dtypes"
   ]
  },
  {
   "cell_type": "code",
   "execution_count": 85,
   "id": "da1c7dce",
   "metadata": {
    "ExecuteTime": {
     "end_time": "2023-11-04T10:24:45.310758Z",
     "start_time": "2023-11-04T10:24:45.300951Z"
    }
   },
   "outputs": [
    {
     "data": {
      "text/plain": [
       "person_id     0\n",
       "transcript    0\n",
       "dtype: int64"
      ]
     },
     "execution_count": 85,
     "metadata": {},
     "output_type": "execute_result"
    }
   ],
   "source": [
    "df.isna().sum()\n",
    "# no null values"
   ]
  },
  {
   "cell_type": "code",
   "execution_count": 69,
   "id": "956fa385",
   "metadata": {
    "ExecuteTime": {
     "end_time": "2023-11-04T10:19:49.358042Z",
     "start_time": "2023-11-04T10:19:49.348560Z"
    }
   },
   "outputs": [
    {
     "data": {
      "text/plain": [
       "0                     ‘I deny it!’ said the March Hare.\\n\n",
       "1                                                      \\n\n",
       "2           way, and the whole party swam to the shore.\\n\n",
       "3       lessons in here? Why, there’s hardly room for ...\n",
       "4                                                      \\n\n",
       "                              ...                        \n",
       "4986    Alice did not wish to offend the Dormouse agai...\n",
       "4987    time,’ she said, ‘than waste it in asking ridd...\n",
       "4988    I heard a gunshot and then saw a man run out. ...\n",
       "4989    I saw the murder happen, and I recognized the ...\n",
       "4990    I was hired by a woman with a lot of money. I ...\n",
       "Name: transcript, Length: 4991, dtype: object"
      ]
     },
     "execution_count": 69,
     "metadata": {},
     "output_type": "execute_result"
    }
   ],
   "source": [
    "df['transcript']\n",
    "# some of the values in this column have incomplete values , like (3-4 tab spaces ,just quotes)"
   ]
  },
  {
   "cell_type": "code",
   "execution_count": 70,
   "id": "68da040e",
   "metadata": {
    "ExecuteTime": {
     "end_time": "2023-11-04T10:21:48.037606Z",
     "start_time": "2023-11-04T10:21:48.019128Z"
    }
   },
   "outputs": [
    {
     "data": {
      "text/html": [
       "<div>\n",
       "<style scoped>\n",
       "    .dataframe tbody tr th:only-of-type {\n",
       "        vertical-align: middle;\n",
       "    }\n",
       "\n",
       "    .dataframe tbody tr th {\n",
       "        vertical-align: top;\n",
       "    }\n",
       "\n",
       "    .dataframe thead th {\n",
       "        text-align: right;\n",
       "    }\n",
       "</style>\n",
       "<table border=\"1\" class=\"dataframe\">\n",
       "  <thead>\n",
       "    <tr style=\"text-align: right;\">\n",
       "      <th></th>\n",
       "      <th>person_id</th>\n",
       "      <th>transcript</th>\n",
       "    </tr>\n",
       "  </thead>\n",
       "  <tbody>\n",
       "    <tr>\n",
       "      <th>1</th>\n",
       "      <td>63713</td>\n",
       "      <td>\\n</td>\n",
       "    </tr>\n",
       "    <tr>\n",
       "      <th>4</th>\n",
       "      <td>33856</td>\n",
       "      <td>\\n</td>\n",
       "    </tr>\n",
       "    <tr>\n",
       "      <th>5</th>\n",
       "      <td>82799</td>\n",
       "      <td>\\n</td>\n",
       "    </tr>\n",
       "    <tr>\n",
       "      <th>10</th>\n",
       "      <td>54206</td>\n",
       "      <td>\\n</td>\n",
       "    </tr>\n",
       "    <tr>\n",
       "      <th>12</th>\n",
       "      <td>34615</td>\n",
       "      <td>\\n</td>\n",
       "    </tr>\n",
       "    <tr>\n",
       "      <th>...</th>\n",
       "      <td>...</td>\n",
       "      <td>...</td>\n",
       "    </tr>\n",
       "    <tr>\n",
       "      <th>4960</th>\n",
       "      <td>22220</td>\n",
       "      <td>\\n</td>\n",
       "    </tr>\n",
       "    <tr>\n",
       "      <th>4968</th>\n",
       "      <td>89706</td>\n",
       "      <td>\\n</td>\n",
       "    </tr>\n",
       "    <tr>\n",
       "      <th>4972</th>\n",
       "      <td>54954</td>\n",
       "      <td>\\n</td>\n",
       "    </tr>\n",
       "    <tr>\n",
       "      <th>4977</th>\n",
       "      <td>36345</td>\n",
       "      <td>\\n</td>\n",
       "    </tr>\n",
       "    <tr>\n",
       "      <th>4982</th>\n",
       "      <td>41577</td>\n",
       "      <td>\\n</td>\n",
       "    </tr>\n",
       "  </tbody>\n",
       "</table>\n",
       "<p>1253 rows × 2 columns</p>\n",
       "</div>"
      ],
      "text/plain": [
       "      person_id transcript\n",
       "1         63713         \\n\n",
       "4         33856         \\n\n",
       "5         82799         \\n\n",
       "10        54206         \\n\n",
       "12        34615         \\n\n",
       "...         ...        ...\n",
       "4960      22220         \\n\n",
       "4968      89706         \\n\n",
       "4972      54954         \\n\n",
       "4977      36345         \\n\n",
       "4982      41577         \\n\n",
       "\n",
       "[1253 rows x 2 columns]"
      ]
     },
     "execution_count": 70,
     "metadata": {},
     "output_type": "execute_result"
    }
   ],
   "source": [
    "df[df['transcript'] =='\\n']\n",
    "# see this kind of data should be transformed corrrectly"
   ]
  },
  {
   "cell_type": "code",
   "execution_count": 11,
   "id": "7c5b858e",
   "metadata": {
    "ExecuteTime": {
     "end_time": "2023-11-04T11:27:53.383678Z",
     "start_time": "2023-11-04T11:27:53.369278Z"
    }
   },
   "outputs": [
    {
     "data": {
      "text/html": [
       "<div>\n",
       "<style scoped>\n",
       "    .dataframe tbody tr th:only-of-type {\n",
       "        vertical-align: middle;\n",
       "    }\n",
       "\n",
       "    .dataframe tbody tr th {\n",
       "        vertical-align: top;\n",
       "    }\n",
       "\n",
       "    .dataframe thead th {\n",
       "        text-align: right;\n",
       "    }\n",
       "</style>\n",
       "<table border=\"1\" class=\"dataframe\">\n",
       "  <thead>\n",
       "    <tr style=\"text-align: right;\">\n",
       "      <th></th>\n",
       "      <th>person_id</th>\n",
       "      <th>transcript</th>\n",
       "    </tr>\n",
       "  </thead>\n",
       "  <tbody>\n",
       "    <tr>\n",
       "      <th>285</th>\n",
       "      <td>20247</td>\n",
       "      <td>*    *    *    *    *    *    *\\n</td>\n",
       "    </tr>\n",
       "    <tr>\n",
       "      <th>629</th>\n",
       "      <td>84681</td>\n",
       "      <td>*    *    *    *    *    *    *\\n</td>\n",
       "    </tr>\n",
       "    <tr>\n",
       "      <th>856</th>\n",
       "      <td>14373</td>\n",
       "      <td>*    *    *    *    *    *    *\\n</td>\n",
       "    </tr>\n",
       "    <tr>\n",
       "      <th>945</th>\n",
       "      <td>29124</td>\n",
       "      <td>*    *    *    *    *    *    *\\n</td>\n",
       "    </tr>\n",
       "    <tr>\n",
       "      <th>1236</th>\n",
       "      <td>14297</td>\n",
       "      <td>*    *    *    *    *    *    *\\n</td>\n",
       "    </tr>\n",
       "    <tr>\n",
       "      <th>1472</th>\n",
       "      <td>44397</td>\n",
       "      <td>*    *    *    *    *    *    *\\n</td>\n",
       "    </tr>\n",
       "    <tr>\n",
       "      <th>3152</th>\n",
       "      <td>36469</td>\n",
       "      <td>*    *    *    *    *    *    *\\n</td>\n",
       "    </tr>\n",
       "    <tr>\n",
       "      <th>3197</th>\n",
       "      <td>27407</td>\n",
       "      <td>*    *    *    *    *    *    *\\n</td>\n",
       "    </tr>\n",
       "    <tr>\n",
       "      <th>3434</th>\n",
       "      <td>90497</td>\n",
       "      <td>*    *    *    *    *    *    *\\n</td>\n",
       "    </tr>\n",
       "    <tr>\n",
       "      <th>3805</th>\n",
       "      <td>52335</td>\n",
       "      <td>*    *    *    *    *    *    *\\n</td>\n",
       "    </tr>\n",
       "    <tr>\n",
       "      <th>3851</th>\n",
       "      <td>70911</td>\n",
       "      <td>*    *    *    *    *    *    *\\n</td>\n",
       "    </tr>\n",
       "    <tr>\n",
       "      <th>4407</th>\n",
       "      <td>19948</td>\n",
       "      <td>*    *    *    *    *    *    *\\n</td>\n",
       "    </tr>\n",
       "  </tbody>\n",
       "</table>\n",
       "</div>"
      ],
      "text/plain": [
       "      person_id                           transcript\n",
       "285       20247    *    *    *    *    *    *    *\\n\n",
       "629       84681    *    *    *    *    *    *    *\\n\n",
       "856       14373    *    *    *    *    *    *    *\\n\n",
       "945       29124    *    *    *    *    *    *    *\\n\n",
       "1236      14297    *    *    *    *    *    *    *\\n\n",
       "1472      44397    *    *    *    *    *    *    *\\n\n",
       "3152      36469    *    *    *    *    *    *    *\\n\n",
       "3197      27407    *    *    *    *    *    *    *\\n\n",
       "3434      90497    *    *    *    *    *    *    *\\n\n",
       "3805      52335    *    *    *    *    *    *    *\\n\n",
       "3851      70911    *    *    *    *    *    *    *\\n\n",
       "4407      19948    *    *    *    *    *    *    *\\n"
      ]
     },
     "execution_count": 11,
     "metadata": {},
     "output_type": "execute_result"
    }
   ],
   "source": [
    "df[df['transcript'] ==\"  *    *    *    *    *    *    *\\n\"]\n",
    "# see this kind of data should be replaced by \"transcription not given\""
   ]
  },
  {
   "cell_type": "code",
   "execution_count": 12,
   "id": "3f29bd9f",
   "metadata": {
    "ExecuteTime": {
     "end_time": "2023-11-04T11:28:27.167342Z",
     "start_time": "2023-11-04T11:28:27.155662Z"
    }
   },
   "outputs": [
    {
     "data": {
      "text/html": [
       "<div>\n",
       "<style scoped>\n",
       "    .dataframe tbody tr th:only-of-type {\n",
       "        vertical-align: middle;\n",
       "    }\n",
       "\n",
       "    .dataframe tbody tr th {\n",
       "        vertical-align: top;\n",
       "    }\n",
       "\n",
       "    .dataframe thead th {\n",
       "        text-align: right;\n",
       "    }\n",
       "</style>\n",
       "<table border=\"1\" class=\"dataframe\">\n",
       "  <thead>\n",
       "    <tr style=\"text-align: right;\">\n",
       "      <th></th>\n",
       "      <th>person_id</th>\n",
       "      <th>transcript</th>\n",
       "    </tr>\n",
       "  </thead>\n",
       "  <tbody>\n",
       "    <tr>\n",
       "      <th>2249</th>\n",
       "      <td>24347</td>\n",
       "      <td>*    *    *    *    *    *\\n</td>\n",
       "    </tr>\n",
       "    <tr>\n",
       "      <th>2847</th>\n",
       "      <td>12103</td>\n",
       "      <td>*    *    *    *    *    *\\n</td>\n",
       "    </tr>\n",
       "    <tr>\n",
       "      <th>4444</th>\n",
       "      <td>10304</td>\n",
       "      <td>*    *    *    *    *    *\\n</td>\n",
       "    </tr>\n",
       "  </tbody>\n",
       "</table>\n",
       "</div>"
      ],
      "text/plain": [
       "      person_id                        transcript\n",
       "2249      24347      *    *    *    *    *    *\\n\n",
       "2847      12103      *    *    *    *    *    *\\n\n",
       "4444      10304      *    *    *    *    *    *\\n"
      ]
     },
     "execution_count": 12,
     "metadata": {},
     "output_type": "execute_result"
    }
   ],
   "source": [
    "df[df['transcript'] ==\"    *    *    *    *    *    *\\n\"]\n",
    "# see this kind of data should be replaced by \"transcription not given\""
   ]
  },
  {
   "cell_type": "code",
   "execution_count": 5,
   "id": "309c7170",
   "metadata": {
    "ExecuteTime": {
     "end_time": "2023-11-04T13:46:26.903132Z",
     "start_time": "2023-11-04T13:46:26.774832Z"
    }
   },
   "outputs": [
    {
     "data": {
      "text/plain": [
       "241"
      ]
     },
     "execution_count": 5,
     "metadata": {},
     "output_type": "execute_result"
    }
   ],
   "source": [
    "df['transcript'].str.len().max()"
   ]
  },
  {
   "cell_type": "markdown",
   "id": "08dad16e",
   "metadata": {},
   "source": [
    "# Person (Table 8)"
   ]
  },
  {
   "cell_type": "code",
   "execution_count": 86,
   "id": "e7250ca4",
   "metadata": {
    "ExecuteTime": {
     "end_time": "2023-11-04T10:24:48.742614Z",
     "start_time": "2023-11-04T10:24:48.708975Z"
    }
   },
   "outputs": [],
   "source": [
    "df=pd.read_csv(\"person.csv\")"
   ]
  },
  {
   "cell_type": "code",
   "execution_count": 72,
   "id": "02ed1899",
   "metadata": {
    "ExecuteTime": {
     "end_time": "2023-11-04T10:22:45.117395Z",
     "start_time": "2023-11-04T10:22:45.094797Z"
    }
   },
   "outputs": [
    {
     "data": {
      "text/html": [
       "<div>\n",
       "<style scoped>\n",
       "    .dataframe tbody tr th:only-of-type {\n",
       "        vertical-align: middle;\n",
       "    }\n",
       "\n",
       "    .dataframe tbody tr th {\n",
       "        vertical-align: top;\n",
       "    }\n",
       "\n",
       "    .dataframe thead th {\n",
       "        text-align: right;\n",
       "    }\n",
       "</style>\n",
       "<table border=\"1\" class=\"dataframe\">\n",
       "  <thead>\n",
       "    <tr style=\"text-align: right;\">\n",
       "      <th></th>\n",
       "      <th>id</th>\n",
       "      <th>name</th>\n",
       "      <th>license_id</th>\n",
       "      <th>address_number</th>\n",
       "      <th>address_street_name</th>\n",
       "      <th>ssn</th>\n",
       "    </tr>\n",
       "  </thead>\n",
       "  <tbody>\n",
       "    <tr>\n",
       "      <th>0</th>\n",
       "      <td>10000</td>\n",
       "      <td>Christoper Peteuil</td>\n",
       "      <td>993845</td>\n",
       "      <td>624</td>\n",
       "      <td>Bankhall Ave</td>\n",
       "      <td>747714076</td>\n",
       "    </tr>\n",
       "    <tr>\n",
       "      <th>1</th>\n",
       "      <td>10007</td>\n",
       "      <td>Kourtney Calderwood</td>\n",
       "      <td>861794</td>\n",
       "      <td>2791</td>\n",
       "      <td>Gustavus Blvd</td>\n",
       "      <td>477972044</td>\n",
       "    </tr>\n",
       "    <tr>\n",
       "      <th>2</th>\n",
       "      <td>10010</td>\n",
       "      <td>Muoi Cary</td>\n",
       "      <td>385336</td>\n",
       "      <td>741</td>\n",
       "      <td>Northwestern Dr</td>\n",
       "      <td>828638512</td>\n",
       "    </tr>\n",
       "    <tr>\n",
       "      <th>3</th>\n",
       "      <td>10016</td>\n",
       "      <td>Era Moselle</td>\n",
       "      <td>431897</td>\n",
       "      <td>1987</td>\n",
       "      <td>Wood Glade St</td>\n",
       "      <td>614621061</td>\n",
       "    </tr>\n",
       "    <tr>\n",
       "      <th>4</th>\n",
       "      <td>10025</td>\n",
       "      <td>Trena Hornby</td>\n",
       "      <td>550890</td>\n",
       "      <td>276</td>\n",
       "      <td>Daws Hill Way</td>\n",
       "      <td>223877684</td>\n",
       "    </tr>\n",
       "    <tr>\n",
       "      <th>...</th>\n",
       "      <td>...</td>\n",
       "      <td>...</td>\n",
       "      <td>...</td>\n",
       "      <td>...</td>\n",
       "      <td>...</td>\n",
       "      <td>...</td>\n",
       "    </tr>\n",
       "    <tr>\n",
       "      <th>10006</th>\n",
       "      <td>99936</td>\n",
       "      <td>Luba Benser</td>\n",
       "      <td>274427</td>\n",
       "      <td>680</td>\n",
       "      <td>Carnage Blvd</td>\n",
       "      <td>685095054</td>\n",
       "    </tr>\n",
       "    <tr>\n",
       "      <th>10007</th>\n",
       "      <td>99941</td>\n",
       "      <td>Roxana Mckimley</td>\n",
       "      <td>975942</td>\n",
       "      <td>1613</td>\n",
       "      <td>Gate St</td>\n",
       "      <td>512136801</td>\n",
       "    </tr>\n",
       "    <tr>\n",
       "      <th>10008</th>\n",
       "      <td>99965</td>\n",
       "      <td>Cherie Zeimantz</td>\n",
       "      <td>287627</td>\n",
       "      <td>3661</td>\n",
       "      <td>The Water Ave</td>\n",
       "      <td>362877324</td>\n",
       "    </tr>\n",
       "    <tr>\n",
       "      <th>10009</th>\n",
       "      <td>99982</td>\n",
       "      <td>Allen Cruse</td>\n",
       "      <td>251350</td>\n",
       "      <td>3126</td>\n",
       "      <td>N Jean Dr</td>\n",
       "      <td>348734531</td>\n",
       "    </tr>\n",
       "    <tr>\n",
       "      <th>10010</th>\n",
       "      <td>99990</td>\n",
       "      <td>Vance Hunten</td>\n",
       "      <td>830407</td>\n",
       "      <td>3056</td>\n",
       "      <td>Lancefield St</td>\n",
       "      <td>896677562</td>\n",
       "    </tr>\n",
       "  </tbody>\n",
       "</table>\n",
       "<p>10011 rows × 6 columns</p>\n",
       "</div>"
      ],
      "text/plain": [
       "          id                 name  license_id  address_number  \\\n",
       "0      10000   Christoper Peteuil      993845             624   \n",
       "1      10007  Kourtney Calderwood      861794            2791   \n",
       "2      10010            Muoi Cary      385336             741   \n",
       "3      10016          Era Moselle      431897            1987   \n",
       "4      10025         Trena Hornby      550890             276   \n",
       "...      ...                  ...         ...             ...   \n",
       "10006  99936          Luba Benser      274427             680   \n",
       "10007  99941      Roxana Mckimley      975942            1613   \n",
       "10008  99965      Cherie Zeimantz      287627            3661   \n",
       "10009  99982          Allen Cruse      251350            3126   \n",
       "10010  99990         Vance Hunten      830407            3056   \n",
       "\n",
       "      address_street_name        ssn  \n",
       "0            Bankhall Ave  747714076  \n",
       "1           Gustavus Blvd  477972044  \n",
       "2         Northwestern Dr  828638512  \n",
       "3           Wood Glade St  614621061  \n",
       "4           Daws Hill Way  223877684  \n",
       "...                   ...        ...  \n",
       "10006        Carnage Blvd  685095054  \n",
       "10007             Gate St  512136801  \n",
       "10008       The Water Ave  362877324  \n",
       "10009           N Jean Dr  348734531  \n",
       "10010       Lancefield St  896677562  \n",
       "\n",
       "[10011 rows x 6 columns]"
      ]
     },
     "execution_count": 72,
     "metadata": {},
     "output_type": "execute_result"
    }
   ],
   "source": [
    "df"
   ]
  },
  {
   "cell_type": "code",
   "execution_count": 73,
   "id": "5c9d8f67",
   "metadata": {
    "ExecuteTime": {
     "end_time": "2023-11-04T10:22:54.399976Z",
     "start_time": "2023-11-04T10:22:54.390883Z"
    }
   },
   "outputs": [
    {
     "data": {
      "text/plain": [
       "(60066, (10011, 6))"
      ]
     },
     "execution_count": 73,
     "metadata": {},
     "output_type": "execute_result"
    }
   ],
   "source": [
    "df.size,df.shape"
   ]
  },
  {
   "cell_type": "code",
   "execution_count": 74,
   "id": "da0936df",
   "metadata": {
    "ExecuteTime": {
     "end_time": "2023-11-04T10:22:58.280170Z",
     "start_time": "2023-11-04T10:22:58.270930Z"
    }
   },
   "outputs": [
    {
     "data": {
      "text/plain": [
       "id                      int64\n",
       "name                   object\n",
       "license_id              int64\n",
       "address_number          int64\n",
       "address_street_name    object\n",
       "ssn                     int64\n",
       "dtype: object"
      ]
     },
     "execution_count": 74,
     "metadata": {},
     "output_type": "execute_result"
    }
   ],
   "source": [
    "df.dtypes\n",
    "# no correction required for the schema of datatype here"
   ]
  },
  {
   "cell_type": "code",
   "execution_count": 87,
   "id": "de779f05",
   "metadata": {
    "ExecuteTime": {
     "end_time": "2023-11-04T10:24:55.894218Z",
     "start_time": "2023-11-04T10:24:55.883834Z"
    }
   },
   "outputs": [
    {
     "data": {
      "text/plain": [
       "id                     0\n",
       "name                   0\n",
       "license_id             0\n",
       "address_number         0\n",
       "address_street_name    0\n",
       "ssn                    0\n",
       "dtype: int64"
      ]
     },
     "execution_count": 87,
     "metadata": {},
     "output_type": "execute_result"
    }
   ],
   "source": [
    "df.isna().sum()\n",
    "# no null values"
   ]
  }
 ],
 "metadata": {
  "kernelspec": {
   "display_name": "Python 3 (ipykernel)",
   "language": "python",
   "name": "python3"
  },
  "language_info": {
   "codemirror_mode": {
    "name": "ipython",
    "version": 3
   },
   "file_extension": ".py",
   "mimetype": "text/x-python",
   "name": "python",
   "nbconvert_exporter": "python",
   "pygments_lexer": "ipython3",
   "version": "3.11.4"
  },
  "toc": {
   "base_numbering": 1,
   "nav_menu": {},
   "number_sections": true,
   "sideBar": true,
   "skip_h1_title": false,
   "title_cell": "Table of Contents",
   "title_sidebar": "Contents",
   "toc_cell": false,
   "toc_position": {},
   "toc_section_display": true,
   "toc_window_display": false
  },
  "varInspector": {
   "cols": {
    "lenName": 16,
    "lenType": 16,
    "lenVar": 40
   },
   "kernels_config": {
    "python": {
     "delete_cmd_postfix": "",
     "delete_cmd_prefix": "del ",
     "library": "var_list.py",
     "varRefreshCmd": "print(var_dic_list())"
    },
    "r": {
     "delete_cmd_postfix": ") ",
     "delete_cmd_prefix": "rm(",
     "library": "var_list.r",
     "varRefreshCmd": "cat(var_dic_list()) "
    }
   },
   "types_to_exclude": [
    "module",
    "function",
    "builtin_function_or_method",
    "instance",
    "_Feature"
   ],
   "window_display": false
  }
 },
 "nbformat": 4,
 "nbformat_minor": 5
}
